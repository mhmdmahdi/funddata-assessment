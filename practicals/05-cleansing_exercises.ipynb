{
 "cells": [
  {
   "cell_type": "markdown",
   "id": "d2f8c40b",
   "metadata": {},
   "source": [
    "## Exercise 1\n",
    "\n",
    "***\n",
    "\n",
    "*Remember to do these exercises in your own notebook in your assessment repository.*\n",
    "\n",
    "Write a Python function to remove all non-alphanumeric characters from a string.\n",
    "\n",
    "<hr style=\"border-top: 1px solid #001a79;\" />"
   ]
  },
  {
   "cell_type": "code",
   "execution_count": 1,
   "id": "db5f4473",
   "metadata": {},
   "outputs": [],
   "source": [
    "import re"
   ]
  },
  {
   "cell_type": "code",
   "execution_count": 25,
   "id": "4f9fff70",
   "metadata": {},
   "outputs": [
    {
     "name": "stdout",
     "output_type": "stream",
     "text": [
      "['This', 'is', 'a', 'string', 'o', 'f', 't', 'ext', 'I', 'wa', 'nt', 't', 'o', 're', 'move', 'a', 'l', 'l', 'no', 'n', 'alpha', 'num', 'eric', 'char', 'acters', 'Digits', 'are', 'to', 'remain', 'to', 'get', '10', 'out', 'of', '10', '']\n"
     ]
    }
   ],
   "source": [
    "original = 'This! is£ a$ string% o&f t!ext. I£ wa&nt t&o re!move a!l!l no%n-%alpha$num$eric char&£acters@. Digits are to remain to get 10 out of 10.'\n",
    "\n",
    "# The pattern/regular expression to use on the above string.\n",
    "# Removes non-alphanumeric characters\n",
    "pattern = r'\\W+'\n",
    "\n",
    "# Splits a string into substrings using a regular expression.\n",
    "# Problem is the individual words are now split and each split happened at a non-alphanumeric point including spaces\n",
    "result = re.split(pattern, original)\n",
    "\n",
    "print(result)"
   ]
  },
  {
   "cell_type": "code",
   "execution_count": 32,
   "id": "0aa9ffec",
   "metadata": {},
   "outputs": [
    {
     "name": "stdout",
     "output_type": "stream",
     "text": [
      "This is a string of text. I want to remove all non-alphanumeric characters. Digits are to remain to get 10 out of 10.\n"
     ]
    }
   ],
   "source": [
    "# Quick google search and the command (re.sub()) was found which removes non-alphanumeric characters. \n",
    "# https://bobbyhadz.com/blog/python-remove-non-alphanumeric-characters-from-string#:~:text=sub()%20method%20to%20remove,replacing%20them%20with%20empty%20strings.\n",
    "# Note that full stops and the dash '-' were also removed...\n",
    "# Adding \\. includes the full stops\n",
    "# Adding \\- includes the dash\n",
    "\n",
    "new_str = re.sub(r'[^\\w\\s\\.\\-]', '', original)\n",
    "print(new_str) "
   ]
  },
  {
   "cell_type": "code",
   "execution_count": null,
   "id": "88647fd7",
   "metadata": {},
   "outputs": [],
   "source": []
  }
 ],
 "metadata": {
  "kernelspec": {
   "display_name": "Python 3 (ipykernel)",
   "language": "python",
   "name": "python3"
  },
  "language_info": {
   "codemirror_mode": {
    "name": "ipython",
    "version": 3
   },
   "file_extension": ".py",
   "mimetype": "text/x-python",
   "name": "python",
   "nbconvert_exporter": "python",
   "pygments_lexer": "ipython3",
   "version": "3.9.13"
  }
 },
 "nbformat": 4,
 "nbformat_minor": 5
}
