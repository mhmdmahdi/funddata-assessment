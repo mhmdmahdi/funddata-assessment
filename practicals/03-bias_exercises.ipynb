{
 "cells": [
  {
   "cell_type": "markdown",
   "id": "ae8b0ee2",
   "metadata": {},
   "source": [
    "### Exercise 1\n",
    "\n",
    "***\n",
    "\n",
    "*Remember to do these exercises in your own notebook in your assessment repository.*\n",
    "\n",
    "Give three real-world examples of different types of cognitive bias.\n",
    "\n",
    "***"
   ]
  },
  {
   "cell_type": "markdown",
   "id": "7dd131a9",
   "metadata": {},
   "source": [
    "#### Anchoring\n",
    "Setting an upper or lower limit will influence:\n",
    "- Car sale - Setting a price will influence the value of the sale\n",
    "- Assuming how old or young someone is when you’re trying to guess their age.\n",
    "\n",
    " \n",
    "#### Availability\n",
    "What you're surrounded by will influence your perceptions and recalls:\n",
    "- Watching the news will influence your perception that crime and war are higher now than ever before even though they are at their lowest in history and continuously declining. \n",
    "- Watching shows about shark attacks will influence your perception that the probability of shark attacks is much higher than it actually is.\n",
    "- Example: Do more words start with the letter ‘k’ or have ‘k’ in the third letter. Almost twice as many words have ‘k’ in the third letter but most people guess otherwise. This would\n",
    "\n",
    "\n",
    "#### Representativeness\n",
    "Stereotypes – Our perception of the world can be skewed by our desire to use representativeness heuristics:\n",
    "- These is actualised by our stereotyping people which can cause us to incorrectly assume peoples politics, professions, hobbies, aspirations, etc. \n",
    "\n",
    "\n",
    "https://www.youtube.com/watch?v=ReFqFPJHLhA\n",
    "https://www.youtube.com/watch?v=3IjIVD-KYF4"
   ]
  },
  {
   "cell_type": "code",
   "execution_count": null,
   "id": "08b4ee5b",
   "metadata": {},
   "outputs": [],
   "source": []
  }
 ],
 "metadata": {
  "kernelspec": {
   "display_name": "Python 3 (ipykernel)",
   "language": "python",
   "name": "python3"
  },
  "language_info": {
   "codemirror_mode": {
    "name": "ipython",
    "version": 3
   },
   "file_extension": ".py",
   "mimetype": "text/x-python",
   "name": "python",
   "nbconvert_exporter": "python",
   "pygments_lexer": "ipython3",
   "version": "3.9.13"
  }
 },
 "nbformat": 4,
 "nbformat_minor": 5
}
