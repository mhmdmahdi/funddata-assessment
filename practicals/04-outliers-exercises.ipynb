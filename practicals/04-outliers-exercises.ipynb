{
 "cells": [
  {
   "cell_type": "markdown",
   "metadata": {},
   "source": [
    "***\n",
    "\n",
    "### Exercise 1\n",
    "\n",
    "*Remember to do these exercises in your own notebook in your assessment repository.*\n",
    "\n",
    "Create box plots on a single set of axes for all five experiments in the morley data set."
   ]
  },
  {
   "cell_type": "markdown",
   "metadata": {},
   "source": [
    "## Box Plots\n",
    "\n",
    "***\n",
    "Method 1"
   ]
  },
  {
   "cell_type": "code",
   "execution_count": 57,
   "metadata": {},
   "outputs": [],
   "source": [
    "# Read in the morley data.\n",
    "data = np.genfromtxt('/Users/35387/Fund/repo/data/morley.csv', skip_header=1, delimiter=',', deletechars='\"')\n",
    "\n",
    "# Remove the first column.\n",
    "data = data[:,1:]"
   ]
  },
  {
   "cell_type": "code",
   "execution_count": 58,
   "metadata": {},
   "outputs": [
    {
     "data": {
      "text/plain": [
       "array([ 850.,  740.,  900., 1070.,  930.,  850.,  950.,  980.,  980.,\n",
       "        880., 1000.,  980.,  930.,  650.,  760.,  810., 1000., 1000.,\n",
       "        960.,  960.])"
      ]
     },
     "execution_count": 58,
     "metadata": {},
     "output_type": "execute_result"
    }
   ],
   "source": [
    "# Select the data for the first experiment.\n",
    "exper_1 = data[:20, 2]\n",
    "\n",
    "exper_1"
   ]
  },
  {
   "cell_type": "code",
   "execution_count": 59,
   "metadata": {
    "scrolled": true
   },
   "outputs": [
    {
     "data": {
      "text/plain": [
       "array([960., 940., 960., 940., 880., 800., 850., 880., 900., 840., 830.,\n",
       "       790., 810., 880., 880., 830., 800., 790., 760., 800.])"
      ]
     },
     "execution_count": 59,
     "metadata": {},
     "output_type": "execute_result"
    }
   ],
   "source": [
    "# Select the data for the second experiment.\n",
    "exper_2 = data[20:40, 2]\n",
    "\n",
    "exper_2"
   ]
  },
  {
   "cell_type": "code",
   "execution_count": 97,
   "metadata": {},
   "outputs": [
    {
     "data": {
      "text/plain": [
       "array([880., 880., 880., 860., 720., 720., 620., 860., 970., 950., 880.,\n",
       "       910., 850., 870., 840., 840., 850., 840., 840., 840.])"
      ]
     },
     "execution_count": 97,
     "metadata": {},
     "output_type": "execute_result"
    }
   ],
   "source": [
    "# Select the data for the third experiment.\n",
    "exper_3 = data[40:60, 2]\n",
    "\n",
    "exper_3"
   ]
  },
  {
   "cell_type": "code",
   "execution_count": 98,
   "metadata": {},
   "outputs": [
    {
     "data": {
      "text/plain": [
       "array([890., 810., 810., 820., 800., 770., 760., 740., 750., 760., 910.,\n",
       "       920., 890., 860., 880., 720., 840., 850., 850., 780.])"
      ]
     },
     "execution_count": 98,
     "metadata": {},
     "output_type": "execute_result"
    }
   ],
   "source": [
    "# Select the data for the fourth experiment.\n",
    "exper_4 = data[60:80, 2]\n",
    "\n",
    "exper_4"
   ]
  },
  {
   "cell_type": "code",
   "execution_count": 99,
   "metadata": {},
   "outputs": [
    {
     "data": {
      "text/plain": [
       "array([890., 840., 780., 810., 760., 810., 790., 810., 820., 850., 870.,\n",
       "       870., 810., 740., 810., 940., 950., 800., 810., 870.])"
      ]
     },
     "execution_count": 99,
     "metadata": {},
     "output_type": "execute_result"
    }
   ],
   "source": [
    "# Select the data for the fifth experiment.\n",
    "exper_5 = data[80:100, 2]\n",
    "\n",
    "exper_5"
   ]
  },
  {
   "cell_type": "code",
   "execution_count": 100,
   "metadata": {
    "scrolled": true
   },
   "outputs": [
    {
     "data": {
      "image/png": "[encoded data removed]",
      "text/plain": [
       "<Figure size 640x480 with 1 Axes>"
      ]
     },
     "metadata": {},
     "output_type": "display_data"
    }
   ],
   "source": [
    "# Create a box plot.\n",
    "plt.boxplot(np.array([exper_1, exper_2, exper_3, exper_4, exper_5]).T);"
   ]
  },
  {
   "cell_type": "markdown",
   "metadata": {},
   "source": [
    "**Method 2 - Can come back to this and try to manually build each box plot and add to a single axis graph**"
   ]
  },
  {
   "cell_type": "code",
   "execution_count": 101,
   "metadata": {},
   "outputs": [
    {
     "data": {
      "text/plain": [
       "array([[ 850.,  960.,  880.,  890.,  890.],\n",
       "       [ 740.,  940.,  880.,  810.,  840.],\n",
       "       [ 900.,  960.,  880.,  810.,  780.],\n",
       "       [1070.,  940.,  860.,  820.,  810.],\n",
       "       [ 930.,  880.,  720.,  800.,  760.],\n",
       "       [ 850.,  800.,  720.,  770.,  810.],\n",
       "       [ 950.,  850.,  620.,  760.,  790.],\n",
       "       [ 980.,  880.,  860.,  740.,  810.],\n",
       "       [ 980.,  900.,  970.,  750.,  820.],\n",
       "       [ 880.,  840.,  950.,  760.,  850.],\n",
       "       [1000.,  830.,  880.,  910.,  870.],\n",
       "       [ 980.,  790.,  910.,  920.,  870.],\n",
       "       [ 930.,  810.,  850.,  890.,  810.],\n",
       "       [ 650.,  880.,  870.,  860.,  740.],\n",
       "       [ 760.,  880.,  840.,  880.,  810.],\n",
       "       [ 810.,  830.,  840.,  720.,  940.],\n",
       "       [1000.,  800.,  850.,  840.,  950.],\n",
       "       [1000.,  790.,  840.,  850.,  800.],\n",
       "       [ 960.,  760.,  840.,  850.,  810.],\n",
       "       [ 960.,  800.,  840.,  780.,  870.]])"
      ]
     },
     "execution_count": 101,
     "metadata": {},
     "output_type": "execute_result"
    }
   ],
   "source": [
    "# A quick way to get the five experiments in different columns.\n",
    "data = data[:,2].reshape(5, 20).T\n",
    "data"
   ]
  },
  {
   "cell_type": "markdown",
   "metadata": {},
   "source": [
    "## Inter-Quartile Range\n",
    "\n",
    "***"
   ]
  },
  {
   "cell_type": "code",
   "execution_count": 102,
   "metadata": {},
   "outputs": [
    {
     "data": {
      "text/plain": [
       "array([[ 850.,  960.,  880.,  890.,  890.],\n",
       "       [ 740.,  940.,  880.,  810.,  840.],\n",
       "       [ 900.,  960.,  880.,  810.,  780.],\n",
       "       [1070.,  940.,  860.,  820.,  810.],\n",
       "       [ 930.,  880.,  720.,  800.,  760.],\n",
       "       [ 850.,  800.,  720.,  770.,  810.],\n",
       "       [ 950.,  850.,  620.,  760.,  790.],\n",
       "       [ 980.,  880.,  860.,  740.,  810.],\n",
       "       [ 980.,  900.,  970.,  750.,  820.],\n",
       "       [ 880.,  840.,  950.,  760.,  850.],\n",
       "       [1000.,  830.,  880.,  910.,  870.],\n",
       "       [ 980.,  790.,  910.,  920.,  870.],\n",
       "       [ 930.,  810.,  850.,  890.,  810.],\n",
       "       [ 650.,  880.,  870.,  860.,  740.],\n",
       "       [ 760.,  880.,  840.,  880.,  810.],\n",
       "       [ 810.,  830.,  840.,  720.,  940.],\n",
       "       [1000.,  800.,  850.,  840.,  950.],\n",
       "       [1000.,  790.,  840.,  850.,  800.],\n",
       "       [ 960.,  760.,  840.,  850.,  810.],\n",
       "       [ 960.,  800.,  840.,  780.,  870.]])"
      ]
     },
     "execution_count": 102,
     "metadata": {},
     "output_type": "execute_result"
    }
   ],
   "source": [
    "data"
   ]
  },
  {
   "cell_type": "code",
   "execution_count": 103,
   "metadata": {
    "scrolled": true
   },
   "outputs": [
    {
     "data": {
      "text/plain": [
       "array([ 850.,  740.,  900., 1070.,  930.,  850.,  950.,  980.,  980.,\n",
       "        880., 1000.,  980.,  930.,  650.,  760.,  810., 1000., 1000.,\n",
       "        960.,  960.])"
      ]
     },
     "execution_count": 103,
     "metadata": {},
     "output_type": "execute_result"
    }
   ],
   "source": [
    "exper_1"
   ]
  },
  {
   "cell_type": "code",
   "execution_count": 104,
   "metadata": {},
   "outputs": [
    {
     "data": {
      "text/plain": [
       "array([960., 940., 960., 940., 880., 800., 850., 880., 900., 840., 830.,\n",
       "       790., 810., 880., 880., 830., 800., 790., 760., 800.])"
      ]
     },
     "execution_count": 104,
     "metadata": {},
     "output_type": "execute_result"
    }
   ],
   "source": [
    "exper_2"
   ]
  },
  {
   "cell_type": "code",
   "execution_count": 105,
   "metadata": {
    "scrolled": true
   },
   "outputs": [
    {
     "data": {
      "text/plain": [
       "array([880., 880., 880., 860., 720., 720., 620., 860., 970., 950., 880.,\n",
       "       910., 850., 870., 840., 840., 850., 840., 840., 840.])"
      ]
     },
     "execution_count": 105,
     "metadata": {},
     "output_type": "execute_result"
    }
   ],
   "source": [
    "exper_3"
   ]
  },
  {
   "cell_type": "code",
   "execution_count": 106,
   "metadata": {},
   "outputs": [
    {
     "data": {
      "text/plain": [
       "array([890., 810., 810., 820., 800., 770., 760., 740., 750., 760., 910.,\n",
       "       920., 890., 860., 880., 720., 840., 850., 850., 780.])"
      ]
     },
     "execution_count": 106,
     "metadata": {},
     "output_type": "execute_result"
    }
   ],
   "source": [
    "exper_4"
   ]
  },
  {
   "cell_type": "code",
   "execution_count": 107,
   "metadata": {},
   "outputs": [
    {
     "data": {
      "text/plain": [
       "array([890., 840., 780., 810., 760., 810., 790., 810., 820., 850., 870.,\n",
       "       870., 810., 740., 810., 940., 950., 800., 810., 870.])"
      ]
     },
     "execution_count": 107,
     "metadata": {},
     "output_type": "execute_result"
    }
   ],
   "source": [
    "exper_5"
   ]
  },
  {
   "cell_type": "code",
   "execution_count": null,
   "metadata": {},
   "outputs": [],
   "source": []
  },
  {
   "cell_type": "code",
   "execution_count": null,
   "metadata": {},
   "outputs": [],
   "source": []
  },
  {
   "cell_type": "code",
   "execution_count": 96,
   "metadata": {},
   "outputs": [
    {
     "data": {
      "image/png": "[encoded data removed]",
      "text/plain": [
       "<Figure size 640x480 with 1 Axes>"
      ]
     },
     "metadata": {},
     "output_type": "display_data"
    }
   ],
   "source": [
    "# Create a figure.\n",
    "fig, ax = plt.subplots()\n",
    "\n",
    "# Add the boxplot.\n",
    "ax.boxplot(exper_1)\n",
    "\n",
    "# Plots red dots at (1, value) for each value in exper_1.\n",
    "ax.plot(np.ones(exper_1.shape), exper_1, 'r.');"
   ]
  },
  {
   "cell_type": "code",
   "execution_count": 33,
   "metadata": {},
   "outputs": [
    {
     "data": {
      "text/plain": [
       "array([ 850.,  740.,  900., 1070.,  930.,  850.,  950.,  980.,  980.,\n",
       "        880., 1000.,  980.,  930.,  650.,  760.,  810., 1000., 1000.,\n",
       "        960.,  960.])"
      ]
     },
     "execution_count": 33,
     "metadata": {},
     "output_type": "execute_result"
    }
   ],
   "source": [
    "# The values.\n",
    "exper_1"
   ]
  },
  {
   "cell_type": "code",
   "execution_count": 69,
   "metadata": {},
   "outputs": [
    {
     "data": {
      "text/plain": [
       "array([740., 760., 780., 790., 800., 810., 810., 810., 810., 810., 810.,\n",
       "       820., 840., 850., 870., 870., 870., 890., 940., 950.])"
      ]
     },
     "execution_count": 69,
     "metadata": {},
     "output_type": "execute_result"
    }
   ],
   "source": [
    "# The values, but sorted.\n",
    "np.sort(exper_1)\n",
    "np.sort(exper_2)\n",
    "np.sort(exper_3)\n",
    "np.sort(exper_4)\n",
    "np.sort(exper_5)"
   ]
  },
  {
   "cell_type": "code",
   "execution_count": 75,
   "metadata": {},
   "outputs": [
    {
     "data": {
      "text/plain": [
       "(909.0, 909.0, 909.0)"
      ]
     },
     "execution_count": 75,
     "metadata": {},
     "output_type": "execute_result"
    }
   ],
   "source": [
    "# Calculate the mean - three ways.\n",
    "exper_1.mean(), np.mean(exper_1), sum(exper_1) / len(exper_1)"
   ]
  },
  {
   "cell_type": "code",
   "execution_count": 76,
   "metadata": {},
   "outputs": [
    {
     "data": {
      "text/plain": [
       "940.0"
      ]
     },
     "execution_count": 76,
     "metadata": {},
     "output_type": "execute_result"
    }
   ],
   "source": [
    "# Median of exper_1.\n",
    "np.median(exper_1)"
   ]
  },
  {
   "cell_type": "code",
   "execution_count": 77,
   "metadata": {},
   "outputs": [
    {
     "data": {
      "text/plain": [
       "940.0"
      ]
     },
     "execution_count": 77,
     "metadata": {},
     "output_type": "execute_result"
    }
   ],
   "source": [
    "# The median is the 50th percentile.\n",
    "np.percentile(exper_1, 50)"
   ]
  },
  {
   "cell_type": "code",
   "execution_count": 78,
   "metadata": {},
   "outputs": [
    {
     "data": {
      "text/plain": [
       "980.0"
      ]
     },
     "execution_count": 78,
     "metadata": {},
     "output_type": "execute_result"
    }
   ],
   "source": [
    "# Upper quartile value.\n",
    "q3 = np.percentile(exper_1, 75)\n",
    "\n",
    "q3"
   ]
  },
  {
   "cell_type": "code",
   "execution_count": 79,
   "metadata": {},
   "outputs": [
    {
     "data": {
      "text/plain": [
       "980.0"
      ]
     },
     "execution_count": 79,
     "metadata": {},
     "output_type": "execute_result"
    }
   ],
   "source": [
    "# Median of the top half of values.\n",
    "np.median(np.sort(exper_1)[10:])"
   ]
  },
  {
   "cell_type": "code",
   "execution_count": 80,
   "metadata": {},
   "outputs": [
    {
     "data": {
      "text/plain": [
       "850.0"
      ]
     },
     "execution_count": 80,
     "metadata": {},
     "output_type": "execute_result"
    }
   ],
   "source": [
    "# Upper quartile value.\n",
    "q1 = np.percentile(exper_1, 25)\n",
    "\n",
    "q1"
   ]
  },
  {
   "cell_type": "code",
   "execution_count": 81,
   "metadata": {},
   "outputs": [
    {
     "data": {
      "text/plain": [
       "850.0"
      ]
     },
     "execution_count": 81,
     "metadata": {},
     "output_type": "execute_result"
    }
   ],
   "source": [
    "# Median of the bottom half of values.\n",
    "np.median(np.sort(exper_1)[:10])"
   ]
  },
  {
   "cell_type": "code",
   "execution_count": 82,
   "metadata": {},
   "outputs": [
    {
     "data": {
      "text/plain": [
       "130.0"
      ]
     },
     "execution_count": 82,
     "metadata": {},
     "output_type": "execute_result"
    }
   ],
   "source": [
    "# Inter-quartile range.\n",
    "iqr = np.percentile(exper_1, 75) - np.percentile(exper_1, 25)\n",
    "\n",
    "iqr"
   ]
  },
  {
   "cell_type": "code",
   "execution_count": 83,
   "metadata": {},
   "outputs": [
    {
     "data": {
      "text/plain": [
       "1110.0"
      ]
     },
     "execution_count": 83,
     "metadata": {},
     "output_type": "execute_result"
    }
   ],
   "source": [
    "# Max upper whisker.\n",
    "q3 + iqr"
   ]
  },
  {
   "cell_type": "code",
   "execution_count": 84,
   "metadata": {},
   "outputs": [
    {
     "data": {
      "text/plain": [
       "720.0"
      ]
     },
     "execution_count": 84,
     "metadata": {},
     "output_type": "execute_result"
    }
   ],
   "source": [
    "# Min lower whisker.\n",
    "q1 - iqr"
   ]
  },
  {
   "cell_type": "code",
   "execution_count": 85,
   "metadata": {},
   "outputs": [
    {
     "data": {
      "image/png": "[encoded data removed]",
      "text/plain": [
       "<Figure size 640x480 with 1 Axes>"
      ]
     },
     "metadata": {},
     "output_type": "display_data"
    }
   ],
   "source": [
    "# Create a figure.\n",
    "fig, ax = plt.subplots()\n",
    "\n",
    "# Add the boxplot.\n",
    "ax.boxplot(exper_1)\n",
    "\n",
    "# Plots red dots at (1, value) for each value in exper_1.\n",
    "ax.plot(np.ones(exper_1.shape), exper_1, 'r.')\n",
    "\n",
    "# Add the max whisker lengths.\n",
    "ax.plot([1.0, 1.0], [q1 - iqr, q3 + iqr], 'bx');"
   ]
  },
  {
   "cell_type": "code",
   "execution_count": 89,
   "metadata": {},
   "outputs": [
    {
     "data": {
      "image/png": "[encoded data removed]",
      "text/plain": [
       "<Figure size 640x480 with 1 Axes>"
      ]
     },
     "metadata": {},
     "output_type": "display_data"
    }
   ],
   "source": [
    "# Create a figure.\n",
    "fig, ax = plt.subplots()\n",
    "\n",
    "# Add the boxplot.\n",
    "ax.boxplot(exper_1)\n",
    "\n",
    "# Plots red dots at (1, value) for each value in exper_1.\n",
    "ax.plot(np.ones(exper_1.shape), exper_1, 'r.')\n",
    "\n",
    "# Add the max whisker lengths.\n",
    "ax.plot([1.0, 1.0], [q1 - iqr, q3 + iqr], 'bx')\n",
    "\n",
    "# Plot the mean.\n",
    "ax.plot([1.0], [np.mean(exper_1)], 'go');\n"
   ]
  },
  {
   "cell_type": "code",
   "execution_count": 47,
   "metadata": {},
   "outputs": [
    {
     "data": {
      "text/plain": [
       "array([1070.,  930.,  950.,  980.,  980., 1000.,  980.,  930., 1000.,\n",
       "       1000.,  960.,  960.])"
      ]
     },
     "execution_count": 47,
     "metadata": {},
     "output_type": "execute_result"
    }
   ],
   "source": [
    "# Values above the mean.\n",
    "exper_1[exper_1 > exper_1.mean()]"
   ]
  },
  {
   "cell_type": "code",
   "execution_count": 48,
   "metadata": {},
   "outputs": [
    {
     "data": {
      "text/plain": [
       "array([850., 740., 900., 850., 880., 650., 760., 810.])"
      ]
     },
     "execution_count": 48,
     "metadata": {},
     "output_type": "execute_result"
    }
   ],
   "source": [
    "# Values above the mean.\n",
    "exper_1[exper_1 < exper_1.mean()]"
   ]
  }
 ],
 "metadata": {
  "kernelspec": {
   "display_name": "Python 3 (ipykernel)",
   "language": "python",
   "name": "python3"
  },
  "language_info": {
   "codemirror_mode": {
    "name": "ipython",
    "version": 3
   },
   "file_extension": ".py",
   "mimetype": "text/x-python",
   "name": "python",
   "nbconvert_exporter": "python",
   "pygments_lexer": "ipython3",
   "version": "3.9.13"
  },
  "vscode": {
   "interpreter": {
    "hash": "31f2aee4e71d21fbe5cf8b01ff0e069b9275f58929596ceb00d14d90e3e16cd6"
   }
  }
 },
 "nbformat": 4,
 "nbformat_minor": 4
}
