{
 "cells": [
  {
   "cell_type": "markdown",
   "id": "f390b825",
   "metadata": {},
   "source": [
    "<h3 style=\"color: #001a79;\">Exercise 1</h3>\n",
    "\n",
    "<hr style=\"border-top: 1px solid #001a79;\" />\n",
    "\n",
    "<i h3 style=\"color: #001a79;\">Remember to do these exercises in your own notebook in your assessment repository.</i>\n",
    "\n",
    "It is somewhat interesting that `(5 * 4 * 3 * 2 * 1)` perfectly divides `(10 * 9 * 8 * 7 * 6)` - there's no remainder.\n",
    "\n",
    "If we only wanted exactly four heads as opposed to five, the equivalent calculation would be `(10 * 9 * 8 * 7) / (4 * 3 * 2 * 1)`.\n",
    "\n",
    "Does that evenly divide too? What is the formula in general?\n",
    "\n",
    "Does it always come out as a positive whole number?\n",
    "\n",
    "<hr style=\"border-top: 1px solid #001a79;\" />"
   ]
  },
  {
   "cell_type": "markdown",
   "id": "42e60d44",
   "metadata": {},
   "source": [
    "#### Yes it divides evenly"
   ]
  },
  {
   "cell_type": "code",
   "execution_count": 1,
   "id": "6880ad63",
   "metadata": {},
   "outputs": [
    {
     "name": "stdout",
     "output_type": "stream",
     "text": [
      "5040\n",
      "24\n",
      "210.0\n"
     ]
    }
   ],
   "source": [
    "a = 10 * 9 * 8 * 7\n",
    "print(a)\n",
    "b = 4 * 3 * 2 * 1\n",
    "print(b)\n",
    "c = a/b\n",
    "print(c)"
   ]
  },
  {
   "cell_type": "markdown",
   "id": "193284dc",
   "metadata": {},
   "source": [
    "This is the number of possible outcomes of receiving 4 heads results (and consequently 6 tails) when flipping a coin 10 times. "
   ]
  },
  {
   "cell_type": "markdown",
   "id": "dcf685a7",
   "metadata": {},
   "source": [
    "#### General formula"
   ]
  },
  {
   "cell_type": "code",
   "execution_count": 4,
   "id": "6db71976",
   "metadata": {},
   "outputs": [
    {
     "name": "stdout",
     "output_type": "stream",
     "text": [
      "Numerator value: 30240\n",
      "Denominstor value: 120\n",
      "Number of possible outcomes: 252.0\n"
     ]
    }
   ],
   "source": [
    "# N = NumberOfFlips\n",
    "# H = HeadsFlipped\n",
    "# x = NumberOfHeadsRequired\n",
    "# a = Numerator\n",
    "# c = a/b\n",
    "\n",
    "N = 10\n",
    "H = 0\n",
    "x = 5\n",
    "a = 1\n",
    "\n",
    "while H<x:\n",
    "    a = a*N\n",
    "    H = H+1\n",
    "    N = N-1\n",
    "print(f'Numerator value: {a}')\n",
    "\n",
    "b = x\n",
    "while x>1:\n",
    "    x = x-1\n",
    "    b = b*x\n",
    "print(f'Denominstor value: {b}')\n",
    "\n",
    "c = a/b\n",
    "print(f'Number of possible outcomes: {c}')"
   ]
  },
  {
   "cell_type": "markdown",
   "id": "770ef6f5",
   "metadata": {},
   "source": [
    "#### Whats happening in the loop for Numerator 'a'\n",
    "    N=10\n",
    "    H=0\n",
    "    a=1\n",
    "    a = 90\n",
    "    \n",
    "    H=1\n",
    "    N=9\n",
    "    a=90*72\n",
    "    \n",
    "    H=2\n",
    "    N=8\n",
    "    a=90*72*56\n",
    "    \n",
    "    H=3\n",
    "    N=7\n",
    "    a=90*72*56*42\n",
    "    \n",
    "    H=4\n",
    "    loop stops\n",
    "    \n",
    "    Same logic is happening in the denominator though a value of greater than 1 was used for x as final loop of x = x-1. Multiplying final value by 1 can be neglected."
   ]
  },
  {
   "cell_type": "code",
   "execution_count": 3,
   "id": "90a994fd",
   "metadata": {},
   "outputs": [
    {
     "data": {
      "text/plain": [
       "5040"
      ]
     },
     "execution_count": 3,
     "metadata": {},
     "output_type": "execute_result"
    }
   ],
   "source": [
    "a"
   ]
  },
  {
   "cell_type": "markdown",
   "id": "155f27ad",
   "metadata": {},
   "source": [
    "#### Yes the value will always come out as a positive as can be seen by chaging the values for 'N' and 'x' in the above code. This is because you cannot flip the coin a negative amount of times (unless you are going back in time/ rewinding reality...). You also cannot flip the coin in fractions, it ony has 2 possible outcomes which is an even outcome in and of itself."
   ]
  },
  {
   "cell_type": "markdown",
   "id": "ce4edc4a",
   "metadata": {},
   "source": [
    " "
   ]
  },
  {
   "cell_type": "markdown",
   "id": "895fe105",
   "metadata": {},
   "source": [
    "<h3 style=\"color: #001a79;\">Exercise 2</h3>\n",
    "\n",
    "<hr style=\"border-top: 1px solid #001a79;\" />\n",
    "\n",
    "<i style=\"color: #001a79;\">Remember to do these exercises in your own notebook in your assessment repository.</i>\n",
    "\n",
    "Note that there are the same number of ways to get 4 tails as there to get 4 heads. Explain why this is.\n",
    "\n",
    "<hr style=\"border-top: 1px solid #001a79;\" />"
   ]
  },
  {
   "cell_type": "markdown",
   "id": "595b64da",
   "metadata": {},
   "source": [
    "#### The labelling of the variable is arbitrary, heads and tails are just names and can similarly be called x and y. What is important about this information is not the syntax but rather what the names represent which in our case for these examples is they both represent equal mathematical probabilities. In saying this we will achieve the same result regardless of the labelling syntax if the mathematical equations are the same. "
   ]
  },
  {
   "cell_type": "code",
   "execution_count": null,
   "id": "4aa75754",
   "metadata": {},
   "outputs": [],
   "source": []
  }
 ],
 "metadata": {
  "kernelspec": {
   "display_name": "Python 3 (ipykernel)",
   "language": "python",
   "name": "python3"
  },
  "language_info": {
   "codemirror_mode": {
    "name": "ipython",
    "version": 3
   },
   "file_extension": ".py",
   "mimetype": "text/x-python",
   "name": "python",
   "nbconvert_exporter": "python",
   "pygments_lexer": "ipython3",
   "version": "3.9.13"
  }
 },
 "nbformat": 4,
 "nbformat_minor": 5
}
