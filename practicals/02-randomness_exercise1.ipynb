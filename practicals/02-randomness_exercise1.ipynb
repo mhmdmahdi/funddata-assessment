{
 "cells": [
  {
   "cell_type": "markdown",
   "id": "f390b825",
   "metadata": {},
   "source": [
    "<h3 style=\"color: #001a79;\">Exercise 1</h3>\n",
    "\n",
    "<hr style=\"border-top: 1px solid #001a79;\" />\n",
    "\n",
    "<i h3 style=\"color: #001a79;\">Remember to do these exercises in your own notebook in your assessment repository.</i>\n",
    "\n",
    "It is somewhat interesting that `(5 * 4 * 3 * 2 * 1)` perfectly divides `(10 * 9 * 8 * 7 * 6)` - there's no remainder.\n",
    "\n",
    "If we only wanted exactly four heads as opposed to five, the equivalent calculation would be `(10 * 9 * 8 * 7) / (4 * 3 * 2 * 1)`.\n",
    "\n",
    "Does that evenly divide too? What is the formula in general?\n",
    "\n",
    "Does it always come out as a positive whole number?\n",
    "\n",
    "<hr style=\"border-top: 1px solid #001a79;\" />"
   ]
  },
  {
   "cell_type": "markdown",
   "id": "42e60d44",
   "metadata": {},
   "source": [
    "### Yes it divides evenly"
   ]
  },
  {
   "cell_type": "code",
   "execution_count": 6,
   "id": "6880ad63",
   "metadata": {},
   "outputs": [
    {
     "name": "stdout",
     "output_type": "stream",
     "text": [
      "5040\n",
      "24\n",
      "210.0\n"
     ]
    }
   ],
   "source": [
    "a = 10 * 9 * 8 * 7\n",
    "print(a)\n",
    "b = 4 * 3 * 2 * 1\n",
    "print(b)\n",
    "c = a/b\n",
    "print(c)"
   ]
  },
  {
   "cell_type": "markdown",
   "id": "193284dc",
   "metadata": {},
   "source": [
    "This is the number of possible outcomes of receiving 4 heads results (and consequently 6 tails) when flipping a coin 10 times. "
   ]
  },
  {
   "cell_type": "markdown",
   "id": "dcf685a7",
   "metadata": {},
   "source": [
    "### General formula"
   ]
  },
  {
   "cell_type": "code",
   "execution_count": 14,
   "id": "6db71976",
   "metadata": {},
   "outputs": [
    {
     "name": "stdout",
     "output_type": "stream",
     "text": [
      "Number of outcomes: 5040\n"
     ]
    }
   ],
   "source": [
    "# N = NumberOfFlips\n",
    "# H = HeadsFlipped\n",
    "# x = NumberOfHeadsRequired\n",
    "# a = Numerator\n",
    "# c = a/b\n",
    "\n",
    "N = 10\n",
    "H = 0\n",
    "x = 4\n",
    "a = 1\n",
    "\n",
    "while H<x:\n",
    "    a = a*N\n",
    "    H = H+1\n",
    "    N = N-1\n",
    "print(f'Number of outcomes: {a}')    "
   ]
  },
  {
   "cell_type": "markdown",
   "id": "770ef6f5",
   "metadata": {},
   "source": [
    "#### Whats happening in the loop for Numerator 'a'\n",
    "    N=10\n",
    "    H=0\n",
    "    a=1\n",
    "    a = 90\n",
    "    \n",
    "    H=1\n",
    "    N=9\n",
    "    a=90*72\n",
    "    \n",
    "    H=2\n",
    "    N=8\n",
    "    a=90*72*56\n",
    "    \n",
    "    H=3\n",
    "    N=7\n",
    "    a=90*72*56*42\n",
    "    \n",
    "    H=4\n",
    "    loop stops\n",
    "    "
   ]
  },
  {
   "cell_type": "code",
   "execution_count": null,
   "id": "90a994fd",
   "metadata": {},
   "outputs": [],
   "source": []
  }
 ],
 "metadata": {
  "kernelspec": {
   "display_name": "Python 3 (ipykernel)",
   "language": "python",
   "name": "python3"
  },
  "language_info": {
   "codemirror_mode": {
    "name": "ipython",
    "version": 3
   },
   "file_extension": ".py",
   "mimetype": "text/x-python",
   "name": "python",
   "nbconvert_exporter": "python",
   "pygments_lexer": "ipython3",
   "version": "3.9.13"
  }
 },
 "nbformat": 4,
 "nbformat_minor": 5
}
