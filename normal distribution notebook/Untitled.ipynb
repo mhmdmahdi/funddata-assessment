{
 "cells": [
  {
   "cell_type": "markdown",
   "id": "d9776043",
   "metadata": {},
   "source": [
    "### Normal Distribution Notebook (40%):\n",
    "#### • Create a notebook about the normal distribution.\n",
    "#### • Define and explain the main concepts.\n",
    "#### • Pitch the notebook at your classmates.\n",
    "#### • Use visuals like plots to explain concepts.\n",
    "\n",
    "***"
   ]
  },
  {
   "cell_type": "code",
   "execution_count": null,
   "id": "ee4b9d4f",
   "metadata": {},
   "outputs": [],
   "source": []
  }
 ],
 "metadata": {
  "kernelspec": {
   "display_name": "Python 3 (ipykernel)",
   "language": "python",
   "name": "python3"
  },
  "language_info": {
   "codemirror_mode": {
    "name": "ipython",
    "version": 3
   },
   "file_extension": ".py",
   "mimetype": "text/x-python",
   "name": "python",
   "nbconvert_exporter": "python",
   "pygments_lexer": "ipython3",
   "version": "3.9.13"
  }
 },
 "nbformat": 4,
 "nbformat_minor": 5
}
