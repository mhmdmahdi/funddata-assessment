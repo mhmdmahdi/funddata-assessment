{
 "cells": [
  {
   "cell_type": "markdown",
   "id": "d9776043",
   "metadata": {},
   "source": [
    "# Normal Distribution Notebook (40%):\n",
    "## • Create a notebook about the normal distribution.\n",
    "## • Define and explain the main concepts.\n",
    "## • Pitch the notebook at your classmates.\n",
    "## • Use visuals like plots to explain concepts.\n",
    "\n",
    "***"
   ]
  },
  {
   "cell_type": "markdown",
   "id": "a0b18ca3",
   "metadata": {},
   "source": [
    "## Normal Distribution Summary\n",
    "\n",
    "<img src=\"https://www.investopedia.com/thmb/G8y4m5eS6LvyRoDwJnVLFSGpz5I=/750x0/filters:no_upscale():max_bytes(150000):strip_icc():format(webp)/Normal_Distribution-v2-f2fe66cf58ed448daf1184a14705c4a2.png\" alt=\"Alternative text\" width=\"500\"/>\n",
    "\n",
    "- The normal distribution is the proper term for a probability bell curve.\n",
    "- In a normal distribution the mean is zero and the standard deviation is 1. It has zero skew and a kurtosis of 3.\n",
    "- Normal distributions are symmetrical, but not all symmetrical distributions are normal.\n",
    "\n",
    "#### What I'll do for this project is (i) define and (ii) investigate the normal distribution in mathematical terms with the aid of plots. I will use the above bullet points as the basis for this notebook\n",
    "***\n",
    "\n",
    "## (i) Definition\n",
    "### Properties of the Normal Distribution\n",
    "The standard normal distribution has two parameters: the mean and the standard deviation. It also has several key features and properties that define it:\n",
    "- First, its mean (average)\n",
    "- median (midpoint) and \n",
    "- mode (most frequent observation). \n",
    "These are all equal to one another and represent the peak, or highest point, of the distribution. The distribution then falls symmetrically around the mean, the width of which is defined by the standard deviation.\n",
    "\n",
    "For all normal distributions, 68.2% of the observations will appear within plus or minus one standard deviation of the mean; 95.4% of the observations will fall within +/- two standard deviations; and 99.7% within +/- three standard deviations. This means that data falling outside of three standard deviations (\"3-sigma\") would signify rare occurrences.\n",
    "\n",
    "<img src=\"https://www.investopedia.com/thmb/rhAAoXgvGoTNlJ9egy2xjnGL1xQ=/750x0/filters:no_upscale():max_bytes(150000):strip_icc():format(webp)/dotdash_final_Optimize_Your_Portfolio_Using_Normal_Distribution_Jan_2021-04-a92fef9458844ea0889ea7db57bc0adb.jpg\" alt=\"Alternative text\" width=\"800\"/>\n",
    "\n",
    "### Skewness\n",
    "Skewness measures the degree of symmetry of a distribution. The normal distribution is symmetric and has a skewness of zero.\n",
    "\n",
    "### Kurtosis\n",
    "Kurtosis measures the thickness of the tail ends of a distribution in relation to the tails of a distribution. The normal distribution has a kurtosis equal to 3.0.\n",
    "\n",
    "https://www.investopedia.com/terms/n/normaldistribution.asp\n"
   ]
  },
  {
   "cell_type": "markdown",
   "id": "4d400afc",
   "metadata": {},
   "source": [
    "## The Formula for the Normal Distribution\n",
    "The normal distribution follows the formula below:\n",
    "$$ f(x) = \\frac{1}{\\sqrt{2 \\pi \\sigma^2 }} e^{-\\frac{(x - \\mu)^2}{2 \\sigma^2}} $$\n",
    "\n",
    "where:\n",
    "\n",
    "- x = value of the variable or data being examined and f(x) the probability function\n",
    "- μ = the mean\n",
    "- σ = the standard deviation\n",
    "\n",
    "##### The effects of μ and σ on the Normal Distribution are explained in class-notes-04_outliers therefore there is no need to copy/ paste the lecture notes here\n",
    "##### In brief, summarising this section of the notes; chaging the value of μ will change the position of the mean i.e. the point at which the graph is cut for symmetry, changing the value of σ will  change the height and width of the normal distribution, the benefits of changing the σ will become clear later on."
   ]
  },
  {
   "cell_type": "markdown",
   "id": "82e96de4",
   "metadata": {},
   "source": [
    "### Example of a Normal Distribution\n",
    "\"Many naturally-occurring phenomena appear to be normally-distributed. Take, for example, the distribution of the heights of human beings. The average height is found to be roughly 175 cm (5' 9\"), counting both males and females.\n",
    "\n",
    "As the chart below shows, most people conform to that average. Meanwhile, taller and shorter people exist, but with decreasing frequency in the population. According to the empirical rule, 99.7% of all people will fall with +/- three standard deviations of the mean, or between 154 cm (5' 0\") and 196 cm (6' 5\"). Those taller and shorter than this would be quite rare (just 0.15% of the population each).\"\n",
    "<img src=\"https://www.investopedia.com/thmb/MABxgDl5uvWTE_BcedEUTOBhaWo=/750x0/filters:no_upscale():max_bytes(150000):strip_icc():format(webp)/HtsEmpirical-1-d8d33ce1b8a64870a8cd0d67f1d8bf0d.png\" alt=\"Alternative text\" width=\"500\"/>\n",
    "https://www.investopedia.com/terms/n/normaldistribution.asp"
   ]
  },
  {
   "cell_type": "markdown",
   "id": "c57b4b2c",
   "metadata": {},
   "source": [
    "##### What I'll do is generate a dataset similar to the above using the standard normal distribution properties and examine these properties\n",
    "##### https://numpy.org/doc/stable/reference/random/generated/numpy.random.normal.html  used as reference for generating random data\n",
    "***"
   ]
  },
  {
   "cell_type": "markdown",
   "id": "b07b38da",
   "metadata": {},
   "source": [
    "## (ii) Investigation"
   ]
  },
  {
   "cell_type": "markdown",
   "id": "a4b8f2ad",
   "metadata": {},
   "source": [
    "## Packages to Import"
   ]
  },
  {
   "cell_type": "code",
   "execution_count": 91,
   "id": "02b9c903",
   "metadata": {},
   "outputs": [],
   "source": [
    "# Numerical arrays.\n",
    "import numpy as np\n",
    "\n",
    "# Plots.\n",
    "import matplotlib.pyplot as plt\n",
    "\n",
    "# stats\n",
    "import scipy"
   ]
  },
  {
   "cell_type": "code",
   "execution_count": 122,
   "id": "271b22f2",
   "metadata": {},
   "outputs": [],
   "source": [
    "mu, sigma = 175, 3 # mean and standard deviation\n",
    "s = np.random.normal(mu, sigma, 100000)\n",
    "\n",
    "# random.normal(loc=0.0, scale=1.0, size=None)\n",
    "# mu = loc: float or array_like of floats - Mean (“centre”) of the distribution\n",
    "# sigma = scale: float or array_like of floats. Standard deviation (spread or “width”) of the distribution. \n",
    "# sigma must be non-negative.\n",
    "# size: int or tuple of ints, optional. Output shape. \n",
    "# If the given shape is, e.g., (m, n, k), then m * n * k samples are drawn. \n",
    "# If size is None (default), a single value is returned if loc and scale are both scalars. \n",
    "# Otherwise, np.broadcast(loc, scale).size samples are drawn."
   ]
  },
  {
   "cell_type": "code",
   "execution_count": 123,
   "id": "809b316b",
   "metadata": {},
   "outputs": [
    {
     "data": {
      "text/plain": [
       "0.007937304916680432"
      ]
     },
     "execution_count": 123,
     "metadata": {},
     "output_type": "execute_result"
    }
   ],
   "source": [
    "abs(mu - np.mean(s))\n",
    "\n",
    "# verify the mean\n",
    "# output should equal 0\n",
    "# 'mu' is our mean\n",
    "# 'mean' is the numpy generated mean"
   ]
  },
  {
   "cell_type": "code",
   "execution_count": 124,
   "id": "7c796f03",
   "metadata": {},
   "outputs": [
    {
     "data": {
      "text/plain": [
       "0.005876507397693853"
      ]
     },
     "execution_count": 124,
     "metadata": {},
     "output_type": "execute_result"
    }
   ],
   "source": [
    "abs(sigma - np.std(s, ddof=1))\n",
    "\n",
    "# verify the standard deviation\n",
    "# output should equal 0\n",
    "# 'sigma' is our standard deviation\n",
    "# 'std of s' is the numpy generated standard deviation of the randomly generated values"
   ]
  },
  {
   "cell_type": "code",
   "execution_count": 125,
   "id": "c322d152",
   "metadata": {},
   "outputs": [
    {
     "data": {
      "image/png": "[encoded data removed]",
      "text/plain": [
       "<Figure size 640x480 with 1 Axes>"
      ]
     },
     "metadata": {},
     "output_type": "display_data"
    }
   ],
   "source": [
    "count, bins, ignored = plt.hist(s, 40, density=True)\n",
    "plt.plot(bins, 1/(sigma * np.sqrt(2 * np.pi)) *\n",
    "               np.exp( - (bins - mu)**2 / (2 * sigma**2) ),\n",
    "         linewidth=2, color='r')\n",
    "plt.show()\n",
    "\n",
    "# https://numpy.org/doc/stable/reference/random/generated/numpy.random.normal.html"
   ]
  },
  {
   "cell_type": "code",
   "execution_count": 126,
   "id": "1e1885c2",
   "metadata": {
    "scrolled": true
   },
   "outputs": [
    {
     "name": "stdout",
     "output_type": "stream",
     "text": [
      "0.006298201079223364\n"
     ]
    }
   ],
   "source": [
    "from scipy.stats import skew\n",
    "# import library\n",
    "\n",
    "print(skew(s, axis=0, bias=True))\n",
    "# The distribution is slightly positively skewed\n",
    "# A positive skew indicates that the tail is on the right side of the distribution, which extends towards more positive values.\n",
    "# https://www.geeksforgeeks.org/how-to-calculate-skewness-and-kurtosis-in-python/ "
   ]
  },
  {
   "cell_type": "markdown",
   "id": "dc41212d",
   "metadata": {},
   "source": [
    "##### A positive skew will indicate that the tail is on the right side. It will extend toward the most positive values.\n",
    "On the other hand, a negative skew will indicate a tail on the left side and will extend to the more negative side.\n",
    "A zero value will indicate that there is no skewness in the distribution, which means that the distribution is perfectly symmetrical.\n",
    "<img src=\"https://d2mk45aasx86xg.cloudfront.net/image1_11zon_4542aedc45.webp\" alt=\"Alternative text\" width=\"600\"/>\n",
    "https://www.turing.com/kb/calculating-skewness-and-kurtosis-in-python"
   ]
  },
  {
   "cell_type": "code",
   "execution_count": 127,
   "id": "eccd0d81",
   "metadata": {},
   "outputs": [
    {
     "name": "stdout",
     "output_type": "stream",
     "text": [
      "3.0045125594656574\n"
     ]
    }
   ],
   "source": [
    "from scipy.stats import kurtosis\n",
    "# import library\n",
    "\n",
    "\n",
    "print(kurtosis(s, axis=0, fisher=False, bias=True))\n",
    "# The distribution has more values in the tails compared to a normal distribution\n",
    "# Platykurtic trend - kurtosis<3; which means it tends to produce fewer and less extreme outliers than the normal distribution.\n",
    "# https://www.kaggle.com/general/244846\n",
    "\n",
    "# Fisher set to 'False' in order to determine if 'kurtosis=3' \n",
    "# https://docs.scipy.org/doc/scipy/reference/generated/scipy.stats.kurtosis.html"
   ]
  },
  {
   "cell_type": "markdown",
   "id": "26543eba",
   "metadata": {},
   "source": [
    "##### \"Aside from determining if a distribution is heavy-tailed, it also provides insight into the shape of the frequency distribution.\"\n",
    "<img src=\"https://d2mk45aasx86xg.cloudfront.net/image6_11zon_8edc788dd7.webp\" alt=\"Alternative text\" width=\"600\"/>\n",
    "\n",
    "https://www.turing.com/kb/calculating-skewness-and-kurtosis-in-python"
   ]
  },
  {
   "cell_type": "markdown",
   "id": "d9d0b3ef",
   "metadata": {},
   "source": [
    "#### With a very small skew we know that our trend is fairly symmetrical and with a kurtosis very close to 3 we can conclude that our trend exhibits normal distribution behaviour."
   ]
  },
  {
   "cell_type": "markdown",
   "id": "b0d78db0",
   "metadata": {},
   "source": [
    "68.2% of the observations will appear within plus or minus one standard deviation of the mean; 95.4% of the observations will fall within +/- two standard deviations; and 99.7% within +/- three standard deviations"
   ]
  },
  {
   "cell_type": "code",
   "execution_count": null,
   "id": "9ac3a941",
   "metadata": {},
   "outputs": [],
   "source": []
  }
 ],
 "metadata": {
  "kernelspec": {
   "display_name": "Python 3 (ipykernel)",
   "language": "python",
   "name": "python3"
  },
  "language_info": {
   "codemirror_mode": {
    "name": "ipython",
    "version": 3
   },
   "file_extension": ".py",
   "mimetype": "text/x-python",
   "name": "python",
   "nbconvert_exporter": "python",
   "pygments_lexer": "ipython3",
   "version": "3.9.13"
  }
 },
 "nbformat": 4,
 "nbformat_minor": 5
}
