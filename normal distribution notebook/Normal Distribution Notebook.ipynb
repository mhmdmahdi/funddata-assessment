{
 "cells": [
  {
   "cell_type": "markdown",
   "id": "d9776043",
   "metadata": {},
   "source": [
    "# Normal Distribution Notebook (40%):\n",
    "## • Create a notebook about the normal distribution.\n",
    "## • Define and explain the main concepts.\n",
    "## • Pitch the notebook at your classmates.\n",
    "## • Use visuals like plots to explain concepts.\n",
    "\n",
    "***"
   ]
  },
  {
   "cell_type": "markdown",
   "id": "a0b18ca3",
   "metadata": {},
   "source": [
    "## Normal Distribution Summary\n",
    "\n",
    "<img src=\"https://www.investopedia.com/thmb/G8y4m5eS6LvyRoDwJnVLFSGpz5I=/750x0/filters:no_upscale():max_bytes(150000):strip_icc():format(webp)/Normal_Distribution-v2-f2fe66cf58ed448daf1184a14705c4a2.png\" alt=\"Alternative text\" width=\"500\"/>\n",
    "\n",
    "- The normal distribution is the proper term for a probability bell curve.\n",
    "- In a normal distribution the mean is zero and the standard deviation is 1. It has zero skew and a kurtosis of 3.\n",
    "- Normal distributions are symmetrical, but not all symmetrical distributions are normal.\n",
    "\n",
    "#### What I'll do for this project is define and investigate the normal distribution in mathematical terms with the aid of plots. Ill will use the above bullet points as the basis for this notebook\n",
    "\n",
    "### Properties of the Normal Distribution\n",
    "The standard normal distribution has two parameters: the mean and the standard deviation. It also has several key features and properties that define it:\n",
    "- First, its mean (average)\n",
    "- median (midpoint) and \n",
    "- mode (most frequent observation). \n",
    "These are all equal to one another and represent the peak, or highest point, of the distribution. The distribution then falls symmetrically around the mean, the width of which is defined by the standard deviation.\n",
    "\n",
    "For all normal distributions, 68.2% of the observations will appear within plus or minus one standard deviation of the mean; 95.4% of the observations will fall within +/- two standard deviations; and 99.7% within +/- three standard deviations. This means that data falling outside of three standard deviations (\"3-sigma\") would signify rare occurrences.\n",
    "\n",
    "<img src=\"https://www.investopedia.com/thmb/rhAAoXgvGoTNlJ9egy2xjnGL1xQ=/750x0/filters:no_upscale():max_bytes(150000):strip_icc():format(webp)/dotdash_final_Optimize_Your_Portfolio_Using_Normal_Distribution_Jan_2021-04-a92fef9458844ea0889ea7db57bc0adb.jpg\" alt=\"Alternative text\" width=\"800\"/>\n",
    "\n",
    "### Skewness\n",
    "Skewness measures the degree of symmetry of a distribution. The normal distribution is symmetric and has a skewness of zero.\n",
    "\n",
    "### Kurtosis\n",
    "Kurtosis measures the thickness of the tail ends of a distribution in relation to the tails of a distribution. The normal distribution has a kurtosis equal to 3.0.\n",
    "\n",
    "https://www.investopedia.com/terms/n/normaldistribution.asp\n"
   ]
  },
  {
   "cell_type": "markdown",
   "id": "4d400afc",
   "metadata": {},
   "source": [
    "## The Formula for the Normal Distribution\n",
    "$$ f(x) = \\frac{1}{\\sqrt{2 \\pi \\sigma^2 }} e^{-\\frac{(x - \\mu)^2}{2 \\sigma^2}} $$\n",
    "\n",
    "where:\n",
    "\n",
    "- x = value of the variable or data being examined and f(x) the probability function\n",
    "- μ = the mean\n",
    "- σ = the standard deviation\n",
    "\n",
    "##### The effects of μ and σ on the Normal Distribution are explained in class-notes-04_outliers therefore there is no need to copy/ paste the lecture notes here\n",
    "##### In brief, summarising this section of the notes; chaging the value of μ will change the position of the mean i.e. the point at which the graph is cut for symmetry, changing the value of σ will  change the height and width of the normal distribution, the benefits of changing the σ will become clear later on."
   ]
  },
  {
   "cell_type": "markdown",
   "id": "786e608a",
   "metadata": {},
   "source": [
    "### Example of a Normal Distribution\n",
    "\"Many naturally-occurring phenomena appear to be normally-distributed. Take, for example, the distribution of the heights of human beings. The average height is found to be roughly 175 cm (5' 9\"), counting both males and females.\n",
    "\n",
    "As the chart below shows, most people conform to that average. Meanwhile, taller and shorter people exist, but with decreasing frequency in the population. According to the empirical rule, 99.7% of all people will fall with +/- three standard deviations of the mean, or between 154 cm (5' 0\") and 196 cm (6' 5\"). Those taller and shorter than this would be quite rare (just 0.15% of the population each).\"\n",
    "<img src=\"https://www.investopedia.com/thmb/MABxgDl5uvWTE_BcedEUTOBhaWo=/750x0/filters:no_upscale():max_bytes(150000):strip_icc():format(webp)/HtsEmpirical-1-d8d33ce1b8a64870a8cd0d67f1d8bf0d.png\" alt=\"Alternative text\" width=\"500\"/>\n",
    "https://www.investopedia.com/terms/n/normaldistribution.asp\n",
    "\n",
    "##### What I'll do is import a dataset and test if it exhibitsthe properties of the standard normal distribution"
   ]
  },
  {
   "cell_type": "markdown",
   "id": "9879fec9",
   "metadata": {},
   "source": [
    "## Packages to Import"
   ]
  },
  {
   "cell_type": "code",
   "execution_count": 3,
   "id": "02b9c903",
   "metadata": {},
   "outputs": [],
   "source": [
    "# Numerical arrays.\n",
    "import numpy as np\n",
    "\n",
    "# Plots.\n",
    "import matplotlib.pyplot as plt"
   ]
  },
  {
   "cell_type": "code",
   "execution_count": null,
   "id": "9016a757",
   "metadata": {},
   "outputs": [],
   "source": []
  }
 ],
 "metadata": {
  "kernelspec": {
   "display_name": "Python 3 (ipykernel)",
   "language": "python",
   "name": "python3"
  },
  "language_info": {
   "codemirror_mode": {
    "name": "ipython",
    "version": 3
   },
   "file_extension": ".py",
   "mimetype": "text/x-python",
   "name": "python",
   "nbconvert_exporter": "python",
   "pygments_lexer": "ipython3",
   "version": "3.9.13"
  }
 },
 "nbformat": 4,
 "nbformat_minor": 5
}
