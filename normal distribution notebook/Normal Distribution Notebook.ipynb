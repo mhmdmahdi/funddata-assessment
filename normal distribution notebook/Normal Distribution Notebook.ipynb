{
 "cells": [
  {
   "cell_type": "markdown",
   "id": "d9776043",
   "metadata": {},
   "source": [
    "### Normal Distribution Notebook (40%):\n",
    "#### • Create a notebook about the normal distribution.\n",
    "#### • Define and explain the main concepts.\n",
    "#### • Pitch the notebook at your classmates.\n",
    "#### • Use visuals like plots to explain concepts.\n",
    "\n",
    "***"
   ]
  },
  {
   "cell_type": "markdown",
   "id": "a0b18ca3",
   "metadata": {},
   "source": [
    "<img src=\"https://www.investopedia.com/thmb/G8y4m5eS6LvyRoDwJnVLFSGpz5I=/750x0/filters:no_upscale():max_bytes(150000):strip_icc():format(webp)/Normal_Distribution-v2-f2fe66cf58ed448daf1184a14705c4a2.png\" alt=\"Alternative text\" width=\"500\"/>\n",
    "\n",
    "- The normal distribution is the proper term for a probability bell curve.\n",
    "- In a normal distribution the mean is zero and the standard deviation is 1. It has zero skew and a kurtosis of 3.\n",
    "- Normal distributions are symmetrical, but not all symmetrical distributions are normal.\n",
    "\n",
    "https://www.investopedia.com/terms/n/normaldistribution.asp\n",
    "\n",
    "##### What I'll do for this project is define and investigate the normal distribution in mathematical terms with the aid of plots. Ill will use the above bullet points as the basis for this notebook"
   ]
  },
  {
   "cell_type": "markdown",
   "id": "4d400afc",
   "metadata": {},
   "source": [
    "$$e^{-1/2} $$"
   ]
  },
  {
   "cell_type": "code",
   "execution_count": null,
   "id": "02b9c903",
   "metadata": {},
   "outputs": [],
   "source": []
  }
 ],
 "metadata": {
  "kernelspec": {
   "display_name": "Python 3 (ipykernel)",
   "language": "python",
   "name": "python3"
  },
  "language_info": {
   "codemirror_mode": {
    "name": "ipython",
    "version": 3
   },
   "file_extension": ".py",
   "mimetype": "text/x-python",
   "name": "python",
   "nbconvert_exporter": "python",
   "pygments_lexer": "ipython3",
   "version": "3.9.13"
  }
 },
 "nbformat": 4,
 "nbformat_minor": 5
}
