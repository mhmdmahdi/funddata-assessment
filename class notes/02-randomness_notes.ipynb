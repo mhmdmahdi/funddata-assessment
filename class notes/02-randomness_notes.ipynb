{
 "cells": [
  {
   "cell_type": "markdown",
   "id": "f798c5f5-a7c4-4237-bb8c-971c3d09504b",
   "metadata": {},
   "source": [
    "<h1 style=\"color: #005b5e;\">Randomness</h1>\n",
    "\n",
    "<hr style=\"border-top: 1px solid #005b5e;\" />\n",
    "\n",
    "\n",
    "In this notebook, you will learn about randomness and pseudo-random numbers."
   ]
  },
  {
   "cell_type": "code",
   "execution_count": 1,
   "id": "19115c87-776d-4c6a-85ee-a6ee3f53013a",
   "metadata": {},
   "outputs": [],
   "source": [
    "# For generating numbers.\n",
    "import numpy as np"
   ]
  },
  {
   "cell_type": "markdown",
   "id": "62f1ebad-5f53-45dd-a0ab-4ddfc0f2d15c",
   "metadata": {},
   "source": [
    "<h2 style=\"color: rgb(0, 91, 94);\">Simulating a Coin Flip</h2>\n",
    "\n",
    "<hr style=\"border-top: 1px solid rgb(0, 91, 94);\" />\n",
    "\n",
    "The following code flips one coin, giving a 0 or a 1.\n",
    "\n",
    "We can interpret a 1 as heads and a 0 as tails.\n",
    "\n",
    "The probability of getting a 1 is 0.5.\n",
    "\n",
    "This means the coin is fair - a 50/50 chance of heads/tails.\n",
    "\n",
    "<br>\n",
    "\n",
    "Probabilities are numbers between 0 and 1, inclusive.\n",
    "\n",
    "If an event happens with probability 0, it means it has no chance of happening.\n",
    "\n",
    "A 1 means it will definitely happen.\n",
    "\n",
    "A probability of 0.1 means a 10% chance, 0.2 means a 20% chance, and so on.\n",
    "\n",
    "*Note: We will just use the `np.random.binomial()` function for now, ignoring what it might mean.*\n"
   ]
  },
  {
   "cell_type": "code",
   "execution_count": 2,
   "id": "6d7c9074-288e-4b4f-be7e-8da85bca4dd7",
   "metadata": {},
   "outputs": [
    {
     "data": {
      "text/plain": [
       "1"
      ]
     },
     "execution_count": 2,
     "metadata": {},
     "output_type": "execute_result"
    }
   ],
   "source": [
    "# Flip a fair coin.\n",
    "np.random.binomial(1, 0.5)"
   ]
  },
  {
   "cell_type": "markdown",
   "id": "61d6948c-ba91-4224-862d-1cb3a2225904",
   "metadata": {},
   "source": [
    "Note that every time we re-run this notebook we will get a new coin flip.\n",
    "\n",
    "The result above is a 1 for me but might be a 0 for you.\n",
    "\n",
    "That will happen throughout this notebook."
   ]
  },
  {
   "cell_type": "markdown",
   "id": "3445e842-5aed-474c-9e61-ad6e9a348006",
   "metadata": {},
   "source": [
    "<h2 style=\"color: rgb(0, 91, 94);\">Repeated Flips</h2>\n",
    "\n",
    "<hr style=\"border-top: 1px solid rgb(0, 91, 94);\" />"
   ]
  },
  {
   "cell_type": "markdown",
   "id": "be6b5f74-7ad2-41e4-8774-7e8fc77c4376",
   "metadata": {},
   "source": [
    "A single coin flip is not very interesting.\n",
    "\n",
    "How about we flip a fair coin 100 times?\n",
    "\n",
    "We can supply a third parameter to the function, the 100."
   ]
  },
  {
   "cell_type": "code",
   "execution_count": 3,
   "id": "0b77c242-7324-40b1-ac96-a806bb5d1d4f",
   "metadata": {},
   "outputs": [
    {
     "data": {
      "text/plain": [
       "array([1, 0, 1, 1, 1, 0, 0, 1, 1, 0, 0, 0, 0, 1, 0, 1, 0, 1, 0, 0, 0, 1,\n",
       "       1, 0, 1, 1, 0, 0, 0, 0, 0, 0, 1, 0, 1, 1, 0, 1, 1, 1, 1, 1, 1, 1,\n",
       "       0, 1, 0, 0, 1, 1, 0, 1, 0, 0, 1, 1, 1, 0, 0, 1, 1, 1, 1, 0, 0, 1,\n",
       "       1, 1, 0, 0, 0, 0, 0, 1, 0, 0, 1, 0, 1, 0, 1, 1, 0, 1, 1, 1, 1, 1,\n",
       "       0, 1, 0, 1, 0, 1, 1, 0, 0, 0, 0, 0])"
      ]
     },
     "execution_count": 3,
     "metadata": {},
     "output_type": "execute_result"
    }
   ],
   "source": [
    "# Flip a fair coin 100 times.\n",
    "np.random.binomial(1, 0.5, 100)"
   ]
  },
  {
   "cell_type": "markdown",
   "id": "fbbeb61b-05da-420e-80ba-6471ccc450ef",
   "metadata": {},
   "source": [
    "The outcome of each flip is represented by a 0 or a 1.\n",
    "\n",
    "While it is interesting to see each flip, sometimes we only want to know the total number of heads.\n",
    "\n",
    "If we delete the third parameter - the 100 - and change the first to 100, here's what happens."
   ]
  },
  {
   "cell_type": "code",
   "execution_count": 4,
   "id": "bca98a86-0da9-4202-966a-e086bbba54d3",
   "metadata": {},
   "outputs": [
    {
     "data": {
      "text/plain": [
       "53"
      ]
     },
     "execution_count": 4,
     "metadata": {},
     "output_type": "execute_result"
    }
   ],
   "source": [
    "# Flip a fair coin 100 times, giving only the total number of heads.\n",
    "np.random.binomial(100, 0.5)"
   ]
  },
  {
   "cell_type": "markdown",
   "id": "38be4d1a-89e0-4976-a66c-6c0c53e3a2a9",
   "metadata": {},
   "source": [
    "At the time of writing, the output above is 45.\n",
    "\n",
    "Again, it might be (in fact, *probably* be) different for you.\n",
    "\n",
    "Note that we have lost some detail having moved from a list of 0's and 1's to a single number representing the number of heads.\n",
    "\n",
    "I do not know which 45 of the 100 coin flips came up heads.\n",
    "\n",
    "It might have been the first 45, for all I know, with the last 55 coming up tails.\n",
    "\n",
    "Indeed the probability of that is the same as the probability of any other sequence of 45 1's and 55 0's.\n",
    "\n",
    "A lot of probability focuses on the relationship between actual events - seeing the list of underlying outcomes - and summaries of the events - seeing only the total number of heads, for instance."
   ]
  },
  {
   "cell_type": "markdown",
   "id": "23072018-1537-4ac3-9901-4a44dfa20329",
   "metadata": {},
   "source": [
    "<h2 style=\"color: rgb(0, 91, 94);\">Twice 50/50</h2>\n",
    "\n",
    "<hr style=\"border-top: 1px solid rgb(0, 91, 94);\" />\n",
    "\n",
    "One hundred coin flips is lot - we will reduce it to ten coin flips for simplicity.\n",
    "\n",
    "Sometimes when we ask numpy to flip ten coins, we'll get five heads.\n",
    "\n",
    "The following code repeatedly flips 10 coins and prints out the first three times we get 5 heads."
   ]
  },
  {
   "cell_type": "code",
   "execution_count": 5,
   "id": "9cd44083-af84-48cb-8b03-7a0d156849fc",
   "metadata": {},
   "outputs": [
    {
     "name": "stdout",
     "output_type": "stream",
     "text": [
      "[1 1 0 1 0 1 0 0 0 1]\n",
      "[0 1 1 0 1 0 1 0 1 0]\n",
      "[1 1 0 1 0 1 0 0 1 0]\n",
      "Total generated: 12\n"
     ]
    }
   ],
   "source": [
    "# Keep flipping coins until we get three examples of getting five heads in ten coin tosses.\n",
    "\n",
    "# Number of examples.\n",
    "N = 3\n",
    "\n",
    "# Keep track of number of arrays generated.\n",
    "total_no = 0\n",
    "\n",
    "# Keep trying until we get three examples.\n",
    "while N > 0:\n",
    "    # Add 1 to total.\n",
    "    total_no = total_no + 1\n",
    "    # Toss 10 coins.\n",
    "    tosses = np.random.binomial(1, 0.5, 10)\n",
    "    # Check if we got five heads.\n",
    "    if tosses.sum() == 5:\n",
    "        # If we got 5 heads, print the list of heads/tails.\n",
    "        print(tosses)\n",
    "        # Reduce the number of examples left to find by 1.\n",
    "        N = N - 1\n",
    "\n",
    "print(f'Total generated: {total_no}')"
   ]
  },
  {
   "cell_type": "markdown",
   "id": "c11e092b-c3b3-4176-9a9c-6e9af8439d37",
   "metadata": {},
   "source": [
    "Listed above are three examples of ten fair coins being flipped.\n",
    "\n",
    "Each 1 represents a head and each 0 a tail.\n",
    "\n",
    "The three lists of ten 0's and 1's might be identical, but it is far more likely that at least one of them is different.\n",
    "\n",
    "Indeed, it is most likely that all three are different from each other.\n",
    "\n",
    "Here is what the output looks like for me at the time of writing.\n",
    "\n",
    "```\n",
    "[1 0 0 0 1 1 1 0 0 1]\n",
    "[1 1 0 1 1 1 0 0 0 0]\n",
    "[1 1 1 0 0 1 0 0 1 0]\n",
    "```\n",
    "\n",
    "The first coin flip in each list came up heads - the three 1's at the start of each line.\n",
    "\n",
    "However, the second coin flip came up tails in the first example and heads in the other two examples.\n",
    "\n",
    "Likewise, the third coin flip can up tails for the first and second examples and heads for the third.\n",
    "\n",
    "They are all different but share a common property: there are five 1's, or five heads, in each set of ten coin flips.\n",
    "\n",
    "How many other ways are there to flip ten coins and get five heads?"
   ]
  },
  {
   "cell_type": "markdown",
   "id": "cbc84b8f-ef3f-4ed3-b425-06b57a02c871",
   "metadata": {},
   "source": [
    "<h2 style=\"color: rgb(0, 91, 94);\">Counting Heads</h2>\n",
    "\n",
    "<hr style=\"border-top: 1px solid rgb(0, 91, 94);\" />\n",
    "\n",
    "We could get numpy to keep flipping ten coins, tracking each time it gets five heads.\n",
    "\n",
    "Eventually we would likely get all the possibilities, although we would also likely get some duplicates.\n",
    "\n",
    "But how would we know when to stop flipping coins?\n",
    "\n",
    "How would we know we had them all?\n",
    "\n",
    "It would be better to have an *analytical* method for counting the number of possibilities - based on logic, on deduction.\n",
    "\n",
    "I will try to convince you that the following calculation gives the number of possibilities."
   ]
  },
  {
   "cell_type": "code",
   "execution_count": 6,
   "id": "3099cff7-2be9-4c0e-815b-13b5cd2c2d70",
   "metadata": {},
   "outputs": [
    {
     "data": {
      "text/plain": [
       "252"
      ]
     },
     "execution_count": 6,
     "metadata": {},
     "output_type": "execute_result"
    }
   ],
   "source": [
    "(10 * 9 * 8 * 7 * 6) // (5 * 4 * 3 * 2 * 1)"
   ]
  },
  {
   "cell_type": "markdown",
   "id": "eb51e464-c511-4200-90d9-3d63c0e5fe0b",
   "metadata": {},
   "source": [
    "This is a calculation involving the numbers 1 to 10, multiplication represented by the symbol `*` and division using the symbol `/`.\n",
    "\n",
    "The parentheses here are just for grouping terms together to specify that the eight multiplications should happen before the single division.\n",
    "\n",
    "*Note: technically we should use `//` here instead of `/` in Python. The first divides integers, the second real numbers. We won't worry about that, though.*"
   ]
  },
  {
   "cell_type": "markdown",
   "id": "4e9a88b8-ca81-4d98-836f-758bab1e6f8e",
   "metadata": {},
   "source": [
    "Let us look first at the first part of the calculation, `10 * 9 * 8 * 7 * 6`.\n",
    "\n",
    "This says multiply 10 by 9, then that by 8, then by 7, and finally by 6.\n",
    "\n",
    "That's quite a big number."
   ]
  },
  {
   "cell_type": "code",
   "execution_count": 7,
   "id": "95ea640e-c80a-45c0-83bd-0c65f92c7f89",
   "metadata": {},
   "outputs": [
    {
     "data": {
      "text/plain": [
       "30240"
      ]
     },
     "execution_count": 7,
     "metadata": {},
     "output_type": "execute_result"
    }
   ],
   "source": [
    "10 * 9 * 8 * 7 * 6"
   ]
  },
  {
   "cell_type": "markdown",
   "id": "7996829b-548a-4e53-a119-df4dd947def4",
   "metadata": {},
   "source": [
    "Here is the logic behind that part of the calculation.\n",
    "\n",
    "We start out to flip ten coins, so let's put ten placeholders (`_`) for the ten outcomes.\n",
    "\n",
    "`_` `_` `_` `_` `_` `_` `_` `_` `_` `_`\n",
    "\n",
    "Once we start flipping coins, each of the ten 0's or 1's generated will go in each placeholder in turn.\n",
    "\n",
    "Suppose we flip the first coin and get a head.\n",
    "\n",
    "Then the placeholders look like this:\n",
    "\n",
    "`1` `_` `_` `_` `_` `_` `_` `_` `_` `_`\n",
    "\n",
    "Okay, so let's reset the placeholders and think about the different places we can put 1's.\n",
    "\n",
    "`_` `_` `_` `_` `_` `_` `_` `_` `_` `_`\n",
    "\n",
    "Remember we need exactly five 1's at the end - we need five placeholders containing 1's.\n",
    "\n",
    "Imagine you are numpy - you have to pick the five placeholders that will contain 1's.\n",
    "\n",
    "How many options do you have?\n",
    "\n",
    "Well, for the first 1, you can put it in the first placeholder, or the second, or any of the other eight.\n",
    "\n",
    "So you have ten choices - hence the 10 in the calculation above.\n",
    "\n",
    "Once you pick a location for the first 1, you have nine available placeholders left.\n",
    "\n",
    "So for the second 1 you need to place somewhere, you have 9 choices - hence the 9 in the above calculation.\n",
    "\n",
    "For the third 1, you have eight choices, for the fourth you have seven, and for the fifth 1 you are left with six choices.\n",
    "\n",
    "Once you place your sixth 1, all choice is gone - you have to put 0's in the remaining five placeholders so that you have exactly five 1's.\n",
    "\n",
    "Now, why multiply these numbers together as opposed to add them or something else?\n",
    "\n",
    "Well, for each choice of ten placeholders for the first 1, there are nine choices for the second 1.\n",
    "\n",
    "It is the *for each* that is important here - it implies we should multiply.\n",
    "\n",
    "Let us list all of the posbilities for positions of the first and second 1's to get the idea."
   ]
  },
  {
   "cell_type": "code",
   "execution_count": 8,
   "id": "52c702ee-ad47-4d81-8543-afa70335d049",
   "metadata": {
    "scrolled": true
   },
   "outputs": [
    {
     "name": "stdout",
     "output_type": "stream",
     "text": [
      "( 1, 2)\n",
      "( 1, 3)\n",
      "( 1, 4)\n",
      "( 1, 5)\n",
      "( 1, 6)\n",
      "( 1, 7)\n",
      "( 1, 8)\n",
      "( 1, 9)\n",
      "( 1,10)\n",
      "( 2, 1)\n",
      "( 2, 3)\n",
      "( 2, 4)\n",
      "( 2, 5)\n",
      "( 2, 6)\n",
      "( 2, 7)\n",
      "( 2, 8)\n",
      "( 2, 9)\n",
      "( 2,10)\n",
      "( 3, 1)\n",
      "( 3, 2)\n",
      "( 3, 4)\n",
      "( 3, 5)\n",
      "( 3, 6)\n",
      "( 3, 7)\n",
      "( 3, 8)\n",
      "( 3, 9)\n",
      "( 3,10)\n",
      "( 4, 1)\n",
      "( 4, 2)\n",
      "( 4, 3)\n",
      "( 4, 5)\n",
      "( 4, 6)\n",
      "( 4, 7)\n",
      "( 4, 8)\n",
      "( 4, 9)\n",
      "( 4,10)\n",
      "( 5, 1)\n",
      "( 5, 2)\n",
      "( 5, 3)\n",
      "( 5, 4)\n",
      "( 5, 6)\n",
      "( 5, 7)\n",
      "( 5, 8)\n",
      "( 5, 9)\n",
      "( 5,10)\n",
      "( 6, 1)\n",
      "( 6, 2)\n",
      "( 6, 3)\n",
      "( 6, 4)\n",
      "( 6, 5)\n",
      "( 6, 7)\n",
      "( 6, 8)\n",
      "( 6, 9)\n",
      "( 6,10)\n",
      "( 7, 1)\n",
      "( 7, 2)\n",
      "( 7, 3)\n",
      "( 7, 4)\n",
      "( 7, 5)\n",
      "( 7, 6)\n",
      "( 7, 8)\n",
      "( 7, 9)\n",
      "( 7,10)\n",
      "( 8, 1)\n",
      "( 8, 2)\n",
      "( 8, 3)\n",
      "( 8, 4)\n",
      "( 8, 5)\n",
      "( 8, 6)\n",
      "( 8, 7)\n",
      "( 8, 9)\n",
      "( 8,10)\n",
      "( 9, 1)\n",
      "( 9, 2)\n",
      "( 9, 3)\n",
      "( 9, 4)\n",
      "( 9, 5)\n",
      "( 9, 6)\n",
      "( 9, 7)\n",
      "( 9, 8)\n",
      "( 9,10)\n",
      "(10, 1)\n",
      "(10, 2)\n",
      "(10, 3)\n",
      "(10, 4)\n",
      "(10, 5)\n",
      "(10, 6)\n",
      "(10, 7)\n",
      "(10, 8)\n",
      "(10, 9)\n",
      "Total combinations is 90.\n"
     ]
    }
   ],
   "source": [
    "# Number of combinations.\n",
    "no_combs = 0\n",
    "\n",
    "# Select the first position.\n",
    "for first in [1, 2, 3, 4, 5, 6, 7, 8, 9, 10]:\n",
    "    # Select the position for the second position.\n",
    "    for second in [1, 2, 3, 4, 5, 6, 7, 8, 9, 10]:\n",
    "        # Make sure the first and second positions are different.\n",
    "        if not first == second:\n",
    "            # Print the combination.\n",
    "            print(f'({first:2},{second:2})')\n",
    "            # Add one to number of combinations.\n",
    "            no_combs = no_combs + 1\n",
    "\n",
    "# Print total number of combinations.\n",
    "print(f'Total combinations is {no_combs}.')"
   ]
  },
  {
   "cell_type": "markdown",
   "id": "a745a084-cca0-4a55-846f-e35c651d7889",
   "metadata": {},
   "source": [
    "So, we see that when we have 10 choices for the first 1 and 9 for the second, we should multiply 10 and 9 to get the total number of combinations."
   ]
  },
  {
   "cell_type": "markdown",
   "id": "e545e0b0-0d5e-40b8-94ee-2004bb86907f",
   "metadata": {},
   "source": [
    "Now, let us work out the second part of the calculation: `5 * 4 * 3 * 2 * 1`.\n",
    "\n",
    "There is a clue in the output above.\n",
    "\n",
    "The first line says \"( 1, 2)\"\n",
    "\n",
    "That looks like this:\n",
    "\n",
    "`1` `1` `_` `_` `_` `_` `_` `_` `_` `_`\n",
    "\n",
    "Now the tenth line is \"( 2, 1)\", which looks like this:\n",
    "\n",
    "`1` `1` `_` `_` `_` `_` `_` `_` `_` `_`\n",
    "\n",
    "They're the same outcome - we have double counted it.\n",
    "\n",
    "In fact, if you inspect the list of all 90 combinations, you'll see that every outcome is counted twice.\n",
    "\n",
    "Hence, we need to divide the 90 by 2, to get 45 distinct placements of the first two 1's.\n",
    "\n",
    "Now, for each of those 45 placements of the first two 1's, we are going to triple count the placement of the third 1, so we have to divide by 3.\n",
    "\n",
    "There are too many possibilities to print, but look at this example.\n",
    "\n",
    "Let's use this example of 1 placements:\n",
    "\n",
    "`1` `_` `_` `1` `_` `1` `_` `_` `_` `_`\n",
    "\n",
    "That can come from placing the third 1 in the correct position for each of these placements of two 1':\n",
    "\n",
    "`1` `_` `_` `1` `_` `_` `_` `_` `_` `_`     (Place the third 1 in the sixth placeholder.)\n",
    "\n",
    "`1` `_` `_` `_` `_` `1` `_` `_` `_` `_`     (Place the third 1 in the fourth placeholder.)\n",
    "\n",
    "`_` `_` `_` `1` `_` `1` `_` `_` `_` `_`     (Place the third 1 in the first placeholder.)\n",
    "\n",
    "Likewise we will count each placement of the fourth 1 four times, and the fifth 1 five times.\n",
    "\n",
    "Thus we need to divide by both 4 and 5.\n",
    "\n",
    "Note the multiplication by 1 at the end is unnecessary - it just makes the formula look a big nicer.\n",
    "\n",
    "This gives division by `5 * 4 * 3 * 2 * 1`."
   ]
  },
  {
   "cell_type": "markdown",
   "id": "420a6bb8",
   "metadata": {},
   "source": [
    "<h3 style=\"color: #001a79;\">Exercise 1</h3>\n",
    "\n",
    "<hr style=\"border-top: 1px solid #001a79;\" />\n",
    "\n",
    "<i h3 style=\"color: #001a79;\">Remember to do these exercises in your own notebook in your assessment repository.</i>\n",
    "\n",
    "It is somewhat interesting that `(5 * 4 * 3 * 2 * 1)` perfectly divides `(10 * 9 * 8 * 7 * 6)` - there's no remainder.\n",
    "\n",
    "If we only wanted exactly four heads as opposed to five, the equivalent calculation would be `(10 * 9 * 8 * 7) / (4 * 3 * 2 * 1)`.\n",
    "\n",
    "Does that evenly divide too? What is the formula in general?\n",
    "\n",
    "Does it always come out as a positive whole number?\n",
    "\n",
    "<hr style=\"border-top: 1px solid #001a79;\" />"
   ]
  },
  {
   "cell_type": "markdown",
   "id": "0aa53a4c-d411-49da-904e-9e4181278340",
   "metadata": {},
   "source": [
    "<h2 style=\"color: rgb(0, 91, 94);\">Unknown Number of Heads</h2>\n",
    "\n",
    "<hr style=\"border-top: 1px solid rgb(0, 91, 94);\" />\n",
    "\n",
    "Now let's see what this can tell us about flipping a coin ten times in general.\n",
    "\n",
    "In general, we don't know how many heads we'll get.\n",
    "\n",
    "How many possibilities are there overall?\n",
    "\n",
    "Well, there is only one way to get no heads (i.e. get all tails):\n",
    "\n",
    "`0` `0` `0` `0` `0` `0` `0` `0` `0` `0`\n",
    "\n",
    "There are ten ways to get one head:\n",
    "\n",
    "`1` `0` `0` `0` `0` `0` `0` `0` `0` `0`\n",
    "\n",
    "`0` `1` `0` `0` `0` `0` `0` `0` `0` `0`\n",
    "\n",
    "`0` `0` `1` `0` `0` `0` `0` `0` `0` `0`\n",
    "\n",
    "and so on.\n",
    "\n",
    "We saw above that there are 45 ways to get two heads, and 252 ways to get five heads.\n",
    "\n",
    "We could calculate the possibilities of getting all the other numbers of heads and sum them up.\n",
    "\n",
    "However, there is an easier way to count all the possibilities.\n",
    "\n",
    "This is to note that there are two possibilities for the first flip, and two for the second, and two for the third, and so on.\n",
    "\n",
    "In general there are 2 to the power of 10 possible results in flipping a coin ten times.\n"
   ]
  },
  {
   "cell_type": "code",
   "execution_count": 9,
   "id": "4dd77335-5363-48ae-ba45-10697b8dee20",
   "metadata": {},
   "outputs": [
    {
     "data": {
      "text/plain": [
       "1024"
      ]
     },
     "execution_count": 9,
     "metadata": {},
     "output_type": "execute_result"
    }
   ],
   "source": [
    "# Calculating 2 to the power of 10 in Python.\n",
    "2**10"
   ]
  },
  {
   "cell_type": "markdown",
   "id": "f0d8f16d",
   "metadata": {},
   "source": [
    "<h3 style=\"color: #001a79;\">Exercise 2</h3>\n",
    "\n",
    "<hr style=\"border-top: 1px solid #001a79;\" />\n",
    "\n",
    "<i style=\"color: #001a79;\">Remember to do these exercises in your own notebook in your assessment repository.</i>\n",
    "\n",
    "Note that there are the same number of ways to get 4 tails as there to get 4 heads. Explain why this is.\n",
    "\n",
    "<hr style=\"border-top: 1px solid #001a79;\" />"
   ]
  },
  {
   "cell_type": "markdown",
   "id": "ffcdfc15-acd1-4807-b9de-25e5a7b797e6",
   "metadata": {},
   "source": [
    "<h2 style=\"color: rgb(0, 91, 94);\">What numpy does</h2>\n",
    "\n",
    "<hr style=\"border-top: 1px solid rgb(0, 91, 94);\" />\n",
    "\n",
    "Again, let's imagine we are numpy, being asked to flip 10 fair coins.\n",
    "\n",
    "One way of looking at our task is to pick one of the 1024 different possible results at random.\n",
    "\n",
    "By \"at random\" in this case, we mean that each of the 1024 possibilities have an equal chance of being selected.\n",
    "\n",
    "In probability terms, we would say that each has a probability of 1/1024 of being selected."
   ]
  },
  {
   "cell_type": "code",
   "execution_count": 10,
   "id": "a9233737-37bb-4e2c-8726-3f4341ed519b",
   "metadata": {},
   "outputs": [
    {
     "data": {
      "text/plain": [
       "0.0009765625"
      ]
     },
     "execution_count": 10,
     "metadata": {},
     "output_type": "execute_result"
    }
   ],
   "source": [
    "# The probability a given possibility is selected\n",
    "1.0 / 1024.0"
   ]
  },
  {
   "cell_type": "markdown",
   "id": "a89219cc-fb01-44a4-a75e-ba4363d330c4",
   "metadata": {},
   "source": [
    "Note that this gives the same chance of all heads being selected (or all tails being selected, for that matter) as any other possibility.\n",
    "\n",
    "Many people find that strange - if you flipped a coin ten times and got all heads you might be suspicious of the coin!\n",
    "\n",
    "However, the outcome is the same as any other.\n",
    "\n",
    "What is unsettling about it is that there is only one way to get all heads:\n",
    "\n",
    "`[1 1 1 1 1 1 1 1 1 1]`\n",
    "\n",
    "while there are far more ways to get some heads and some tails."
   ]
  },
  {
   "cell_type": "markdown",
   "id": "7ca22e3a-c799-4e10-87b6-d28e39df0ed9",
   "metadata": {},
   "source": [
    "<h2 style=\"color: rgb(0, 91, 94);\">The Point</h2>\n",
    "\n",
    "<hr style=\"border-top: 1px solid rgb(0, 91, 94);\" />\n",
    "\n",
    "So here's the point: if you start out with a fair coin and flip it ten times, any sequence of 0's and 1's has the same chance of showing up.\n",
    "\n",
    "However, if you ask what is the chance that you will get a certain number of heads, irrespective of the order they come in, then there are far more possibilities for, say five heads (we saw there are 252 of them) than there are for say zero heads (there is still only one possibility).\n",
    "\n",
    "So, the probability of getting five heads is:"
   ]
  },
  {
   "cell_type": "code",
   "execution_count": 11,
   "id": "573eda05-1fdc-440d-a175-88b05dc95626",
   "metadata": {},
   "outputs": [
    {
     "data": {
      "text/plain": [
       "0.24609375"
      ]
     },
     "execution_count": 11,
     "metadata": {},
     "output_type": "execute_result"
    }
   ],
   "source": [
    "# Probability of getting five heads when flipping a coin ten times.\n",
    "252 / 1024"
   ]
  },
  {
   "cell_type": "code",
   "execution_count": 12,
   "id": "579ddd38-a363-4f01-97e6-0ebd257e93e0",
   "metadata": {},
   "outputs": [
    {
     "data": {
      "text/plain": [
       "0.0009765625"
      ]
     },
     "execution_count": 12,
     "metadata": {},
     "output_type": "execute_result"
    }
   ],
   "source": [
    "# Probability of getting zero heads when flipping a coin ten times.\n",
    "1 / 1024"
   ]
  },
  {
   "cell_type": "markdown",
   "id": "ecefb220-6311-435c-89d9-da3fb92618f3",
   "metadata": {},
   "source": [
    "The formula we saw earlier has name: choose.\n",
    "\n",
    "It is built into the math library in Python, but is called `comb`."
   ]
  },
  {
   "cell_type": "code",
   "execution_count": 13,
   "id": "cdd07b13-f3d5-46aa-a44a-06073686b786",
   "metadata": {},
   "outputs": [
    {
     "data": {
      "text/plain": [
       "252"
      ]
     },
     "execution_count": 13,
     "metadata": {},
     "output_type": "execute_result"
    }
   ],
   "source": [
    "import math\n",
    "\n",
    "math.comb(10, 5)"
   ]
  },
  {
   "cell_type": "markdown",
   "id": "83714485-69fd-420f-975c-bfe66de228d7",
   "metadata": {},
   "source": [
    "Let's use this to plot the probabilities of getting heads for each of the numbers 0 to 10."
   ]
  },
  {
   "cell_type": "code",
   "execution_count": 14,
   "id": "97a6b212-1ca9-44a2-8002-c38cf5db7254",
   "metadata": {},
   "outputs": [
    {
     "data": {
      "image/png": "[encoded data removed]",
      "text/plain": [
       "<Figure size 640x480 with 1 Axes>"
      ]
     },
     "metadata": {},
     "output_type": "display_data"
    }
   ],
   "source": [
    "# Plotting.\n",
    "import matplotlib.pyplot as plt\n",
    "\n",
    "# The number of coins we will flip.\n",
    "coins = 10\n",
    "\n",
    "# The number from 0 to 10 inclusive.\n",
    "x = list(range(coins + 1))\n",
    "\n",
    "# The number of ways of selecting i things from 10. \n",
    "y = [math.comb(coins, i) for i in x]\n",
    "\n",
    "# Display x and y as a bar chart.\n",
    "plt.bar(x, y);"
   ]
  },
  {
   "cell_type": "markdown",
   "id": "af604c8c-4b2f-4a41-9769-923f71ca9c87",
   "metadata": {},
   "source": [
    "<h2 style=\"color: rgb(0, 91, 94);\">Testing numpy</h2>\n",
    "\n",
    "<hr style=\"border-top: 1px solid rgb(0, 91, 94);\" />\n",
    "\n",
    "Finally, lets ask ourselves whether or not we can trust numpy.\n",
    "\n",
    "How about we run 10,000 trials and keep track of the number of heads for each, and plot that?"
   ]
  },
  {
   "cell_type": "code",
   "execution_count": 15,
   "id": "55b2c707-22fb-498f-85c8-f59a00999e63",
   "metadata": {},
   "outputs": [
    {
     "data": {
      "image/png": "[encoded data removed]",
      "text/plain": [
       "<Figure size 640x480 with 1 Axes>"
      ]
     },
     "metadata": {},
     "output_type": "display_data"
    }
   ],
   "source": [
    "# The number of coins we are to flip.\n",
    "coins = 10\n",
    "\n",
    "# Number of trials to run.\n",
    "trials = 10000\n",
    "\n",
    "# Run the trials.\n",
    "heads = np.random.binomial(coins, 0.5, trials)\n",
    "\n",
    "# Count the unique values in the returned list.\n",
    "vals, counts = np.unique(heads, return_counts=True)\n",
    "\n",
    "# Plot results in a histogram.\n",
    "plt.bar(vals, counts);"
   ]
  },
  {
   "cell_type": "markdown",
   "id": "fbf55e9d-351b-4330-94cd-07f972bfa49f",
   "metadata": {},
   "source": [
    "The plots look the same.\n",
    "\n",
    "Is there a test we can do to really convince ourselves?\n",
    "\n",
    "Some sort of statistical test?\n",
    "\n",
    "That's for another day."
   ]
  },
  {
   "cell_type": "markdown",
   "id": "5b405930",
   "metadata": {},
   "source": [
    "<h2 style=\"color: rgb(0, 91, 94);\">Distributions</h2>\n",
    "\n",
    "<hr style=\"border-top: 1px solid rgb(0, 91, 94);\" />\n",
    "\n",
    "The numpy package has several different distributions available as functions."
   ]
  },
  {
   "cell_type": "code",
   "execution_count": 16,
   "id": "723c02dc",
   "metadata": {},
   "outputs": [
    {
     "data": {
      "image/png": "[encoded data removed]",
      "text/plain": [
       "<Figure size 640x480 with 1 Axes>"
      ]
     },
     "metadata": {},
     "output_type": "display_data"
    }
   ],
   "source": [
    "# The number of coins we are to flip.\n",
    "coins = 1\n",
    "\n",
    "# Number of trials to run.\n",
    "trials = 10000\n",
    "\n",
    "# Run the trials.\n",
    "heads = np.random.binomial(coins, 0.5, trials)\n",
    "\n",
    "# Count the unique values in the returned list.\n",
    "vals, counts = np.unique(heads, return_counts=True)\n",
    "\n",
    "# Plot results in a histogram.\n",
    "plt.bar(vals, counts);"
   ]
  },
  {
   "cell_type": "code",
   "execution_count": 17,
   "id": "9c98bd17",
   "metadata": {},
   "outputs": [
    {
     "data": {
      "image/png": "[encoded data removed]",
      "text/plain": [
       "<Figure size 640x480 with 1 Axes>"
      ]
     },
     "metadata": {},
     "output_type": "display_data"
    }
   ],
   "source": [
    "# The number of coins we are to flip.\n",
    "coins = 10\n",
    "\n",
    "# Number of trials to run.\n",
    "trials = 10000\n",
    "\n",
    "# Run the trials.\n",
    "heads = np.random.binomial(coins, 0.5, trials)\n",
    "\n",
    "# Count the unique values in the returned list.\n",
    "vals, counts = np.unique(heads, return_counts=True)\n",
    "\n",
    "# Plot results in a histogram.\n",
    "plt.bar(vals, counts);"
   ]
  },
  {
   "cell_type": "code",
   "execution_count": 18,
   "id": "ba141bd3",
   "metadata": {},
   "outputs": [
    {
     "name": "stdout",
     "output_type": "stream",
     "text": [
      "[1 1 0 0] 3\n"
     ]
    }
   ],
   "source": [
    "# The number of possible outcomes.\n",
    "N = 11\n",
    "\n",
    "# What is the next biggest power of 2? It is 16.\n",
    "B = 4\n",
    "\n",
    "# Flip B coins.\n",
    "flips = np.random.binomial(1, 0.5, B)\n",
    "\n",
    "# Convert that to binary.\n",
    "number = 0\n",
    "for i in range(len(flips)):\n",
    "    number = number + flips[i] * 2**i\n",
    "\n",
    "# Print the flips and the decimal number.\n",
    "print(flips, number)"
   ]
  },
  {
   "cell_type": "code",
   "execution_count": 19,
   "id": "b9b04b16",
   "metadata": {},
   "outputs": [],
   "source": [
    "# Make a function to generate and convert coin flips to integer.\n",
    "def gen_number(B=4):\n",
    "    # Flip B coins.\n",
    "    flips = np.random.binomial(1, 0.5, B)\n",
    "    # Convert that to binary.\n",
    "    number = 0\n",
    "    for i in range(len(flips)):\n",
    "        number = number + flips[i] * 2**i\n",
    "    # Return the number.\n",
    "    return number"
   ]
  },
  {
   "cell_type": "code",
   "execution_count": 20,
   "id": "9f7a8b0b",
   "metadata": {},
   "outputs": [
    {
     "data": {
      "text/plain": [
       "6"
      ]
     },
     "execution_count": 20,
     "metadata": {},
     "output_type": "execute_result"
    }
   ],
   "source": [
    "# Test the function.\n",
    "gen_number()"
   ]
  },
  {
   "cell_type": "code",
   "execution_count": 21,
   "id": "7a83e998",
   "metadata": {},
   "outputs": [
    {
     "data": {
      "image/png": "[encoded data removed]",
      "text/plain": [
       "<Figure size 640x480 with 1 Axes>"
      ]
     },
     "metadata": {},
     "output_type": "display_data"
    }
   ],
   "source": [
    "# Run the function several times.\n",
    "\n",
    "# Number of outcomes.\n",
    "no_outcomes = 10000\n",
    "\n",
    "# Generate outcomes.\n",
    "outcomes = [gen_number() for i in range(no_outcomes)]\n",
    "\n",
    "# Plot the counts of outcomes..\n",
    "# Count the unique values in the returned list.\n",
    "vals, counts = np.unique(outcomes, return_counts=True)\n",
    "\n",
    "# Plot results in a histogram (technically a bar chart).\n",
    "plt.bar(vals, counts);"
   ]
  },
  {
   "cell_type": "markdown",
   "id": "4cb58ae3",
   "metadata": {},
   "source": [
    "Possible outcomes in flipping four coins.\n",
    "\n",
    "Use 0 for tails and 1 for heads.\n",
    "\n",
    "0000, 0001, 0010, 0011, 0100, 0101, 0110, 0111,\n",
    "1000, 1001, 1010, 1011, 1100, 1101, 1110, 1111\n",
    "\n",
    "Each of these is equally likely.\n",
    "\n",
    "Note we are not counting the number of heads here.\n",
    "\n",
    "We are interested in the sequence of heads and tails.\n",
    "\n",
    "What we did above is treat the above sequences of 0's and 1's as numbers written in binary.\n",
    "\n",
    "Note, for convenience, the left most bit was the least significant."
   ]
  },
  {
   "cell_type": "code",
   "execution_count": 22,
   "id": "f9e71427",
   "metadata": {},
   "outputs": [
    {
     "data": {
      "image/png": "[encoded data removed]",
      "text/plain": [
       "<Figure size 640x480 with 1 Axes>"
      ]
     },
     "metadata": {},
     "output_type": "display_data"
    }
   ],
   "source": [
    "# Run the function several times.\n",
    "\n",
    "# Number of outcomes.\n",
    "no_outcomes = 10000\n",
    "\n",
    "# Generate outcomes.\n",
    "outcomes = []\n",
    "while len(outcomes) < no_outcomes:\n",
    "    next_number = gen_number()\n",
    "    if next_number <= 10:\n",
    "        outcomes.append(next_number)\n",
    "\n",
    "# Plot the counts of outcomes..\n",
    "# Count the unique values in the returned list.\n",
    "vals, counts = np.unique(outcomes, return_counts=True)\n",
    "\n",
    "# Plot results in a histogram (technically a bar chart).\n",
    "plt.bar(vals, counts);"
   ]
  },
  {
   "cell_type": "code",
   "execution_count": 23,
   "id": "3f0442a4",
   "metadata": {},
   "outputs": [
    {
     "data": {
      "image/png": "[encoded data removed]",
      "text/plain": [
       "<Figure size 640x480 with 1 Axes>"
      ]
     },
     "metadata": {},
     "output_type": "display_data"
    }
   ],
   "source": [
    "# Run the function several times.\n",
    "\n",
    "# Number of outcomes.\n",
    "no_outcomes = 10000\n",
    "\n",
    "# Generate outcomes.\n",
    "outcomes = []\n",
    "while len(outcomes) < no_outcomes:\n",
    "    next_number = gen_number()\n",
    "    if 1 <= next_number and next_number <= 10:\n",
    "        outcomes.append(next_number)\n",
    "\n",
    "# Plot the counts of outcomes..\n",
    "# Count the unique values in the returned list.\n",
    "vals, counts = np.unique(outcomes, return_counts=True)\n",
    "\n",
    "# Plot results in a histogram (technically a bar chart).\n",
    "plt.bar(vals, counts);"
   ]
  },
  {
   "cell_type": "markdown",
   "id": "2846c3e4",
   "metadata": {},
   "source": [
    "<h2 style=\"color: rgb(0, 91, 94);\">Random Distributions in numpy</h2>\n",
    "\n",
    "<hr style=\"border-top: 1px solid rgb(0, 91, 94);\" />"
   ]
  },
  {
   "cell_type": "code",
   "execution_count": 24,
   "id": "22fd58ed",
   "metadata": {},
   "outputs": [],
   "source": [
    "# https://numpy.org/doc/stable/reference/random/index.html\n",
    "\n",
    "# Create a new instance of a random number generator.\n",
    "rng = np.random.default_rng()"
   ]
  },
  {
   "cell_type": "code",
   "execution_count": 25,
   "id": "e38b9f35",
   "metadata": {},
   "outputs": [
    {
     "data": {
      "text/plain": [
       "array([-0.5202377 , -1.46357675,  0.1350281 ,  0.66266498,  0.31956935,\n",
       "       -1.25829923,  0.46900213, -0.71257   ,  1.64827659,  0.11148939])"
      ]
     },
     "execution_count": 25,
     "metadata": {},
     "output_type": "execute_result"
    }
   ],
   "source": [
    "vals = rng.standard_normal(10)\n",
    "vals"
   ]
  },
  {
   "cell_type": "code",
   "execution_count": 26,
   "id": "9a54fa3c",
   "metadata": {},
   "outputs": [
    {
     "data": {
      "text/plain": [
       "array([ 0.16593226, -1.17579827, -1.08760609, -0.26676194, -0.51135379,\n",
       "        1.32015257,  0.94410279,  0.38611141,  1.29893648,  0.10161175])"
      ]
     },
     "execution_count": 26,
     "metadata": {},
     "output_type": "execute_result"
    }
   ],
   "source": [
    "more_vals = rng.standard_normal(10)\n",
    "more_vals"
   ]
  },
  {
   "cell_type": "code",
   "execution_count": 27,
   "id": "d702d446",
   "metadata": {},
   "outputs": [
    {
     "data": {
      "text/plain": [
       "array([ 1.79871723,  2.00005748, -0.52177558,  0.41386048,  0.40940072,\n",
       "       -1.00814255,  0.89496325,  0.18512207,  1.44329884,  0.0833532 ])"
      ]
     },
     "execution_count": 27,
     "metadata": {},
     "output_type": "execute_result"
    }
   ],
   "source": [
    "np.random.standard_normal(10)"
   ]
  },
  {
   "cell_type": "code",
   "execution_count": 28,
   "id": "3b1a19fe",
   "metadata": {},
   "outputs": [],
   "source": [
    "rng = np.random.default_rng(0)"
   ]
  },
  {
   "cell_type": "code",
   "execution_count": 29,
   "id": "5628b98c",
   "metadata": {},
   "outputs": [
    {
     "data": {
      "text/plain": [
       "array([ 0.12573022, -0.13210486,  0.64042265,  0.10490012, -0.53566937,\n",
       "        0.36159505,  1.30400005,  0.94708096, -0.70373524, -1.26542147])"
      ]
     },
     "execution_count": 29,
     "metadata": {},
     "output_type": "execute_result"
    }
   ],
   "source": [
    "vals = rng.standard_normal(10)\n",
    "vals"
   ]
  },
  {
   "cell_type": "markdown",
   "id": "57127f2a",
   "metadata": {},
   "source": [
    "<h2 style=\"color: rgb(0, 91, 94);\">Standard Normal</h2>\n",
    "\n",
    "<hr style=\"border-top: 1px solid rgb(0, 91, 94);\" />"
   ]
  },
  {
   "cell_type": "code",
   "execution_count": 30,
   "id": "825c92ae",
   "metadata": {},
   "outputs": [],
   "source": [
    "# Create new, seeded random number generator.\n",
    "rng = np.random.default_rng(0)\n",
    "\n",
    "# Generate 1000 numbers on a standard normal distribution.\n",
    "samples = rng.standard_normal(10000)"
   ]
  },
  {
   "cell_type": "code",
   "execution_count": 31,
   "id": "bcea59fe",
   "metadata": {},
   "outputs": [
    {
     "data": {
      "text/plain": [
       "(array([  1.,   1.,   0.,   0.,   0.,   0.,   1.,   2.,   2.,   2.,   3.,\n",
       "          0.,   6.,   6.,  10.,   7.,   6.,  12.,  21.,   8.,  15.,  20.,\n",
       "         21.,  26.,  33.,  36.,  44.,  56.,  49.,  51.,  74.,  93.,  84.,\n",
       "         97., 103., 148., 144., 147., 182., 187., 189., 200., 233., 241.,\n",
       "        244., 266., 278., 233., 292., 316., 298., 296., 283., 249., 270.,\n",
       "        290., 273., 279., 254., 260., 265., 254., 225., 231., 204., 194.,\n",
       "        194., 179., 131., 153., 138., 112., 100.,  82.,  91.,  65.,  57.,\n",
       "         62.,  52.,  53.,  30.,  30.,  26.,  25.,  24.,  21.,  12.,  10.,\n",
       "          8.,  10.,   1.,   7.,   0.,   4.,   3.,   3.,   1.,   0.,   0.,\n",
       "          1.]),\n",
       " array([-3.89942173, -3.82560914, -3.75179655, -3.67798396, -3.60417137,\n",
       "        -3.53035878, -3.45654619, -3.3827336 , -3.30892101, -3.23510842,\n",
       "        -3.16129583, -3.08748324, -3.01367065, -2.93985806, -2.86604547,\n",
       "        -2.79223288, -2.7184203 , -2.64460771, -2.57079512, -2.49698253,\n",
       "        -2.42316994, -2.34935735, -2.27554476, -2.20173217, -2.12791958,\n",
       "        -2.05410699, -1.9802944 , -1.90648181, -1.83266922, -1.75885663,\n",
       "        -1.68504404, -1.61123145, -1.53741886, -1.46360627, -1.38979368,\n",
       "        -1.31598109, -1.2421685 , -1.16835591, -1.09454332, -1.02073073,\n",
       "        -0.94691814, -0.87310555, -0.79929296, -0.72548037, -0.65166778,\n",
       "        -0.57785519, -0.5040426 , -0.43023002, -0.35641743, -0.28260484,\n",
       "        -0.20879225, -0.13497966, -0.06116707,  0.01264552,  0.08645811,\n",
       "         0.1602707 ,  0.23408329,  0.30789588,  0.38170847,  0.45552106,\n",
       "         0.52933365,  0.60314624,  0.67695883,  0.75077142,  0.82458401,\n",
       "         0.8983966 ,  0.97220919,  1.04602178,  1.11983437,  1.19364696,\n",
       "         1.26745955,  1.34127214,  1.41508473,  1.48889732,  1.56270991,\n",
       "         1.6365225 ,  1.71033509,  1.78414768,  1.85796026,  1.93177285,\n",
       "         2.00558544,  2.07939803,  2.15321062,  2.22702321,  2.3008358 ,\n",
       "         2.37464839,  2.44846098,  2.52227357,  2.59608616,  2.66989875,\n",
       "         2.74371134,  2.81752393,  2.89133652,  2.96514911,  3.0389617 ,\n",
       "         3.11277429,  3.18658688,  3.26039947,  3.33421206,  3.40802465,\n",
       "         3.48183724]),\n",
       " <BarContainer object of 100 artists>)"
      ]
     },
     "execution_count": 31,
     "metadata": {},
     "output_type": "execute_result"
    },
    {
     "data": {
      "image/png": "[encoded data removed]",
      "text/plain": [
       "<Figure size 640x480 with 1 Axes>"
      ]
     },
     "metadata": {},
     "output_type": "display_data"
    }
   ],
   "source": [
    "# Create a figure.\n",
    "fig, ax = plt.subplots()\n",
    "\n",
    "# Create histogram.\n",
    "ax.hist(samples, bins=100)"
   ]
  },
  {
   "cell_type": "markdown",
   "id": "eacab0fb",
   "metadata": {},
   "source": [
    "<h3 style=\"color: #001a79;\">Exercise 3</h3>\n",
    "\n",
    "<hr style=\"border-top: 1px solid #001a79;\" />\n",
    "\n",
    "<i style=\"color: #001a79;\">Remember to do these exercises in your own notebook in your assessment repository.</i>\n",
    "\n",
    "\n",
    "Plot bar charts or histograms of any three different distributions listed at the following link:\n",
    "\n",
    "https://numpy.org/doc/stable/reference/random/generator.html#distributions\n",
    "\n",
    "<hr style=\"border-top: 1px solid #001a79;\" />\n"
   ]
  },
  {
   "cell_type": "markdown",
   "id": "11814fc6-2899-49c7-839c-002f19789dd6",
   "metadata": {},
   "source": [
    "<hr style=\"border-top: 1px solid rgb(0, 91, 94);\" />\n",
    "\n",
    "<h2 style=\"color: rgb(0, 91, 94);\">End</h2>"
   ]
  }
 ],
 "metadata": {
  "kernelspec": {
   "display_name": "Python 3 (ipykernel)",
   "language": "python",
   "name": "python3"
  },
  "language_info": {
   "codemirror_mode": {
    "name": "ipython",
    "version": 3
   },
   "file_extension": ".py",
   "mimetype": "text/x-python",
   "name": "python",
   "nbconvert_exporter": "python",
   "pygments_lexer": "ipython3",
   "version": "3.9.13"
  }
 },
 "nbformat": 4,
 "nbformat_minor": 5
}
