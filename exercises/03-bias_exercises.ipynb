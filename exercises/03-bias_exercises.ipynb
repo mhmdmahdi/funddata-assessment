{
 "cells": [
  {
   "cell_type": "markdown",
   "id": "ae8b0ee2",
   "metadata": {},
   "source": [
    "### Exercise 1\n",
    "\n",
    "***\n",
    "\n",
    "*Remember to do these exercises in your own notebook in your assessment repository.*\n",
    "\n",
    "Give three real-world examples of different types of cognitive bias.\n",
    "\n",
    "***"
   ]
  },
  {
   "cell_type": "markdown",
   "id": "7dd131a9",
   "metadata": {},
   "source": [
    "#### Anchoring\n",
    "Setting an upper or lower limit will influence:\n",
    "- Car sale - Setting a price will influence the value of the sale\n",
    "- Assuming how old or young someone is when you’re trying to guess their age.\n",
    "\n",
    " \n",
    "#### Availability\n",
    "What you're surrounded by will influence your perceptions and recalls:\n",
    "- Watching the news will influence your perception that crime and war are higher now than ever before even though they are at their lowest in history and continuously declining. \n",
    "- Watching shows about shark attacks will influence your perception that the probability of shark attacks is much higher than it actually is.\n",
    "- Example: Do more words start with the letter ‘k’ or have ‘k’ in the third letter. Almost twice as many words have ‘k’ in the third letter but most people guess otherwise. This would\n",
    "\n",
    "\n",
    "#### Representativeness\n",
    "Stereotypes – Our perception of the world can be skewed by our desire to use representativeness heuristics:\n",
    "- These is actualised by our stereotyping people which can cause us to incorrectly assume peoples politics, professions, hobbies, aspirations, etc. \n",
    "\n",
    "\n",
    "https://www.youtube.com/watch?v=ReFqFPJHLhA\n",
    "https://www.youtube.com/watch?v=3IjIVD-KYF4"
   ]
  },
  {
   "cell_type": "markdown",
   "id": "c65e4bf6",
   "metadata": {},
   "source": [
    "***"
   ]
  },
  {
   "cell_type": "markdown",
   "id": "b74fbaf2",
   "metadata": {},
   "source": [
    "# Additional exercise"
   ]
  },
  {
   "cell_type": "code",
   "execution_count": 2,
   "id": "fda8930f",
   "metadata": {},
   "outputs": [],
   "source": [
    "import numpy as np"
   ]
  },
  {
   "cell_type": "code",
   "execution_count": 4,
   "id": "9b2638ce",
   "metadata": {},
   "outputs": [
    {
     "data": {
      "text/plain": [
       "2.8"
      ]
     },
     "execution_count": 4,
     "metadata": {},
     "output_type": "execute_result"
    }
   ],
   "source": [
    "# A list of numbers - four small and one big.\n",
    "numbers1 = np.array([1, 1, 1, 1, 10])\n",
    "\n",
    "# Their mean.\n",
    "np.mean(numbers1)"
   ]
  },
  {
   "cell_type": "code",
   "execution_count": 5,
   "id": "8e5b6351",
   "metadata": {},
   "outputs": [
    {
     "data": {
      "text/plain": [
       "2.8"
      ]
     },
     "execution_count": 5,
     "metadata": {},
     "output_type": "execute_result"
    }
   ],
   "source": [
    "# A list of numbers - all close to each other.\n",
    "numbers2 = np.array([2, 2, 3, 3, 4])\n",
    "\n",
    "# Their mean.\n",
    "np.mean(numbers2)"
   ]
  },
  {
   "cell_type": "code",
   "execution_count": 7,
   "id": "1b3d314c",
   "metadata": {},
   "outputs": [
    {
     "data": {
      "text/plain": [
       "3.6"
      ]
     },
     "execution_count": 7,
     "metadata": {},
     "output_type": "execute_result"
    }
   ],
   "source": [
    "numbers1.std()"
   ]
  },
  {
   "cell_type": "code",
   "execution_count": 8,
   "id": "f0405255",
   "metadata": {},
   "outputs": [
    {
     "data": {
      "text/plain": [
       "0.7483314773547882"
      ]
     },
     "execution_count": 8,
     "metadata": {},
     "output_type": "execute_result"
    }
   ],
   "source": [
    "numbers2.std()"
   ]
  },
  {
   "cell_type": "markdown",
   "id": "7e6258b1",
   "metadata": {},
   "source": [
    "***"
   ]
  },
  {
   "cell_type": "markdown",
   "id": "4d914f50",
   "metadata": {},
   "source": [
    "## Exercise 2\n",
    "\n",
    "***\n",
    "\n",
    "*Remember to do these exercises in your own notebook in your assessment repository.*\n",
    "\n",
    "Show that the difference between the standard deviation calculations is greatest for small sample sizes.\n",
    "***\n",
    "\n",
    "i.e. Why is Bessels correction bigger for smaller sample sizes"
   ]
  },
  {
   "cell_type": "code",
   "execution_count": 57,
   "id": "2b0cc952",
   "metadata": {},
   "outputs": [
    {
     "data": {
      "text/plain": [
       "array([10.72165658,  9.36364198,  8.85887367, ..., 12.21596631,\n",
       "        9.68018646,  8.94331948])"
      ]
     },
     "execution_count": 57,
     "metadata": {},
     "output_type": "execute_result"
    }
   ],
   "source": [
    "# Generate a sample of values - note we can see the population standard deviation.\n",
    "x = np.random.normal(10.0,1.0,10000)\n",
    "x"
   ]
  },
  {
   "cell_type": "code",
   "execution_count": 58,
   "id": "7e86c694",
   "metadata": {},
   "outputs": [
    {
     "data": {
      "text/plain": [
       "1.0057655008324689"
      ]
     },
     "execution_count": 58,
     "metadata": {},
     "output_type": "execute_result"
    }
   ],
   "source": [
    "x.std()"
   ]
  },
  {
   "cell_type": "code",
   "execution_count": 59,
   "id": "9ec1b09b",
   "metadata": {
    "scrolled": true
   },
   "outputs": [
    {
     "data": {
      "text/plain": [
       "1.011564242664787"
      ]
     },
     "execution_count": 59,
     "metadata": {},
     "output_type": "execute_result"
    }
   ],
   "source": [
    "# Uncorrected variance.\n",
    "np.mean(np.square(x - np.mean(x)))"
   ]
  },
  {
   "cell_type": "code",
   "execution_count": 60,
   "id": "973c2375",
   "metadata": {},
   "outputs": [
    {
     "data": {
      "text/plain": [
       "1.0057655008324689"
      ]
     },
     "execution_count": 60,
     "metadata": {},
     "output_type": "execute_result"
    }
   ],
   "source": [
    "# Standard deviation\n",
    "x1 = np.sqrt(np.mean(np.square(x - np.mean(x))))\n",
    "x1"
   ]
  },
  {
   "cell_type": "code",
   "execution_count": 61,
   "id": "232d76be",
   "metadata": {},
   "outputs": [
    {
     "data": {
      "text/plain": [
       "1.0116654092057076"
      ]
     },
     "execution_count": 61,
     "metadata": {},
     "output_type": "execute_result"
    }
   ],
   "source": [
    "# Corrected variance.\n",
    "np.mean(np.square(x - np.mean(x))) * (len(x) / (len(x) - 1.0))"
   ]
  },
  {
   "cell_type": "code",
   "execution_count": 62,
   "id": "2c368f29",
   "metadata": {},
   "outputs": [
    {
     "data": {
      "text/plain": [
       "1.0058157928794456"
      ]
     },
     "execution_count": 62,
     "metadata": {},
     "output_type": "execute_result"
    }
   ],
   "source": [
    "# Standard deviation\n",
    "x2 = np.sqrt(np.mean(np.square(x - np.mean(x))) * (len(x) / (len(x) - 1.0)))\n",
    "x2"
   ]
  },
  {
   "cell_type": "code",
   "execution_count": 71,
   "id": "3f635412",
   "metadata": {},
   "outputs": [
    {
     "data": {
      "text/plain": [
       "5.029204697670764e-05"
      ]
     },
     "execution_count": 71,
     "metadata": {},
     "output_type": "execute_result"
    }
   ],
   "source": [
    "# Difference between corrected and uncorrected standard deviations\n",
    "x3=x2-x1\n",
    "x3"
   ]
  },
  {
   "cell_type": "code",
   "execution_count": 64,
   "id": "a6cb8da8",
   "metadata": {},
   "outputs": [
    {
     "data": {
      "text/plain": [
       "array([ 9.88296409, 10.48418576,  9.94669965,  9.97273473,  8.41585861,\n",
       "        9.68167476, 10.50655983,  9.85639017,  8.99421992, 10.68076543])"
      ]
     },
     "execution_count": 64,
     "metadata": {},
     "output_type": "execute_result"
    }
   ],
   "source": [
    "y = np.random.normal(10,1,10)\n",
    "y"
   ]
  },
  {
   "cell_type": "code",
   "execution_count": 65,
   "id": "8bb25bcb",
   "metadata": {},
   "outputs": [
    {
     "data": {
      "text/plain": [
       "0.6607437172661709"
      ]
     },
     "execution_count": 65,
     "metadata": {},
     "output_type": "execute_result"
    }
   ],
   "source": [
    "y.std()"
   ]
  },
  {
   "cell_type": "code",
   "execution_count": 66,
   "id": "fa2368a5",
   "metadata": {},
   "outputs": [
    {
     "data": {
      "text/plain": [
       "0.4365822599067176"
      ]
     },
     "execution_count": 66,
     "metadata": {},
     "output_type": "execute_result"
    }
   ],
   "source": [
    "# Uncorrected variance.\n",
    "np.mean(np.square(y - np.mean(y)))"
   ]
  },
  {
   "cell_type": "code",
   "execution_count": 67,
   "id": "0bb3ca59",
   "metadata": {},
   "outputs": [
    {
     "data": {
      "text/plain": [
       "0.6607437172661709"
      ]
     },
     "execution_count": 67,
     "metadata": {},
     "output_type": "execute_result"
    }
   ],
   "source": [
    "# Standard deviation\n",
    "y1 = np.sqrt(np.mean(np.square(y - np.mean(y))))\n",
    "y1"
   ]
  },
  {
   "cell_type": "code",
   "execution_count": 68,
   "id": "17c51f37",
   "metadata": {},
   "outputs": [
    {
     "data": {
      "text/plain": [
       "0.4850913998963529"
      ]
     },
     "execution_count": 68,
     "metadata": {},
     "output_type": "execute_result"
    }
   ],
   "source": [
    "# Corrected variance.\n",
    "np.mean(np.square(y - np.mean(y))) * (len(y) / (len(y) - 1.0))"
   ]
  },
  {
   "cell_type": "code",
   "execution_count": 69,
   "id": "e77a087b",
   "metadata": {},
   "outputs": [
    {
     "data": {
      "text/plain": [
       "0.6964850320691414"
      ]
     },
     "execution_count": 69,
     "metadata": {},
     "output_type": "execute_result"
    }
   ],
   "source": [
    "# Standard deviation\n",
    "y2 = np.sqrt(np.mean(np.square(y - np.mean(y))) * (len(y) / (len(y) - 1.0)))\n",
    "y2"
   ]
  },
  {
   "cell_type": "code",
   "execution_count": 74,
   "id": "b5c04638",
   "metadata": {},
   "outputs": [
    {
     "data": {
      "text/plain": [
       "0.03574131480297049"
      ]
     },
     "execution_count": 74,
     "metadata": {},
     "output_type": "execute_result"
    }
   ],
   "source": [
    "# Difference between corrected and uncorrected standard deviations\n",
    "y3=y2-y1\n",
    "y3"
   ]
  },
  {
   "cell_type": "markdown",
   "id": "51a07d5e",
   "metadata": {},
   "source": [
    "Comparing the above we can see that for the larger array (n=1000) there isn't a huge difference between the overall corrected and uncorrected standard deviations (x3). Whereas for the smaller array (n=10), there is a much more pronounced difference (y3).\n",
    "This can be put down to the difference between the 2 formulas which is Bessels correction (n/(n-1)). Substituting the values for n into this correction we get values of:"
   ]
  },
  {
   "cell_type": "code",
   "execution_count": 33,
   "id": "a5c496b5",
   "metadata": {},
   "outputs": [
    {
     "data": {
      "text/plain": [
       "1.001001001001001"
      ]
     },
     "execution_count": 33,
     "metadata": {},
     "output_type": "execute_result"
    }
   ],
   "source": [
    "1000/(1000-1)"
   ]
  },
  {
   "cell_type": "code",
   "execution_count": 36,
   "id": "d064c9a3",
   "metadata": {},
   "outputs": [
    {
     "data": {
      "text/plain": [
       "1.1111111111111112"
      ]
     },
     "execution_count": 36,
     "metadata": {},
     "output_type": "execute_result"
    }
   ],
   "source": [
    "10/(10-1)"
   ]
  },
  {
   "cell_type": "markdown",
   "id": "686c2ee3",
   "metadata": {},
   "source": [
    "This is because as n decreases we get larger values for Bessels correction as the numerator will be significantly larger than the denominator, whereas if n increases we get smaller values as the difference between the numerator and denominator decreases. This is obvious as we are subtracting a value of 1 from increasingly larger numbers thus making the number 1 less significant with increasing values. "
   ]
  }
 ],
 "metadata": {
  "kernelspec": {
   "display_name": "Python 3 (ipykernel)",
   "language": "python",
   "name": "python3"
  },
  "language_info": {
   "codemirror_mode": {
    "name": "ipython",
    "version": 3
   },
   "file_extension": ".py",
   "mimetype": "text/x-python",
   "name": "python",
   "nbconvert_exporter": "python",
   "pygments_lexer": "ipython3",
   "version": "3.9.13"
  }
 },
 "nbformat": 4,
 "nbformat_minor": 5
}
